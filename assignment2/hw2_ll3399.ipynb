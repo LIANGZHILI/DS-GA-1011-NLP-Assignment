{
 "cells": [
  {
   "cell_type": "markdown",
   "metadata": {},
   "source": [
    "### DS-GA 1011 Fall 2018 Assignment 2\n",
    "#### RNN/CNN-based Natural Language Inference\n",
    "Liangzhi Li"
   ]
  },
  {
   "cell_type": "code",
   "execution_count": 1,
   "metadata": {
    "collapsed": true
   },
   "outputs": [],
   "source": [
    "import numpy as np\n",
    "import torch\n",
    "import torch.nn as nn\n",
    "import torch.nn.functional as F\n",
    "from torch.utils.data import Dataset\n",
    "from collections import Counter\n",
    "import pickle as pkl\n",
    "import random\n",
    "import pdb\n",
    "random.seed(2018)\n",
    "\n",
    "PAD_IDX = 0\n",
    "UNK_IDX = 1\n",
    "BATCH_SIZE = 32"
   ]
  },
  {
   "cell_type": "code",
   "execution_count": 2,
   "metadata": {},
   "outputs": [
    {
     "name": "stdout",
     "output_type": "stream",
     "text": [
      "/home/amberli/hw2/hi\n"
     ]
    }
   ],
   "source": [
    "cd /home/amberli/hw2/hi"
   ]
  },
  {
   "cell_type": "code",
   "execution_count": 3,
   "metadata": {},
   "outputs": [],
   "source": [
    "assert torch.cuda.is_available and torch.has_cudnn"
   ]
  },
  {
   "cell_type": "code",
   "execution_count": 4,
   "metadata": {},
   "outputs": [],
   "source": [
    "if torch.cuda.is_available and torch.has_cudnn:\n",
    "    device = torch.device('cuda')\n",
    "else:\n",
    "    device = torch.device(\"cpu\")"
   ]
  },
  {
   "cell_type": "markdown",
   "metadata": {},
   "source": [
    "### read train and validation data"
   ]
  },
  {
   "cell_type": "code",
   "execution_count": 5,
   "metadata": {
    "collapsed": true
   },
   "outputs": [],
   "source": [
    "import csv\n",
    "def readtsvfile(filename):\n",
    "    texts = []\n",
    "    with open(filename) as tsvfile:\n",
    "        reader = csv.reader(tsvfile, delimiter='\\t')\n",
    "        for row in reader:\n",
    "            texts.append(row)\n",
    "    return texts"
   ]
  },
  {
   "cell_type": "code",
   "execution_count": 6,
   "metadata": {},
   "outputs": [
    {
     "name": "stdout",
     "output_type": "stream",
     "text": [
      "train data: 100000\n",
      "validation data: 1000\n"
     ]
    }
   ],
   "source": [
    "train_data_tokens = readtsvfile('snli_train.tsv')\n",
    "val_data_tokens = readtsvfile('snli_val.tsv')\n",
    "train_data_tokens = train_data_tokens[1::]\n",
    "val_data_tokens = val_data_tokens[1::]\n",
    "print('train data: {}'.format(len(train_data_tokens)))\n",
    "print('validation data: {}'.format(len(val_data_tokens)))"
   ]
  },
  {
   "cell_type": "markdown",
   "metadata": {},
   "source": [
    "### load pretrained word embeddings from fastText"
   ]
  },
  {
   "cell_type": "code",
   "execution_count": 7,
   "metadata": {
    "collapsed": true
   },
   "outputs": [],
   "source": [
    "ft_home = './'\n",
    "words_to_load = 50000\n",
    "\n",
    "import numpy as np\n",
    "\n",
    "with open(ft_home + 'wiki-news-300d-1M.vec') as f:\n",
    "    loaded_embeddings_ft = np.zeros((words_to_load+2, 300))\n",
    "    loaded_embeddings_ft[1,:]=np.random.randn(300)*0.01\n",
    "    words_ft = {'<pad>':0,'<unk>':1}\n",
    "    idx2words_ft = {0:'<pad>',1:'<unk>'}\n",
    "    ordered_words_ft = ['<pad>','<unk>']\n",
    "    for i, line in enumerate(f):\n",
    "        if i >= words_to_load: \n",
    "            break\n",
    "        s = line.split()\n",
    "        loaded_embeddings_ft[i+2, :] = np.asarray(s[1:])\n",
    "        words_ft[s[0]] = i+2\n",
    "        idx2words_ft[i+2] = s[0]\n",
    "        ordered_words_ft.append(s[0])"
   ]
  },
  {
   "cell_type": "markdown",
   "metadata": {},
   "source": [
    "tokenize sentence 1 and sentence 2"
   ]
  },
  {
   "cell_type": "code",
   "execution_count": 8,
   "metadata": {
    "collapsed": true
   },
   "outputs": [],
   "source": [
    "def tokenize(data):\n",
    "    for i in range(len(data)):\n",
    "        data[i][0]=data[i][0].split()\n",
    "        data[i][1]=data[i][1].split()"
   ]
  },
  {
   "cell_type": "code",
   "execution_count": 9,
   "metadata": {
    "collapsed": true
   },
   "outputs": [],
   "source": [
    "tokenize(train_data_tokens)\n",
    "tokenize(val_data_tokens)"
   ]
  },
  {
   "cell_type": "code",
   "execution_count": 10,
   "metadata": {
    "collapsed": true
   },
   "outputs": [],
   "source": [
    "label_dic = {'contradiction':1,'entailment':0,'neutral':2}\n",
    "def token2id(data):\n",
    "    data_id = []\n",
    "    for i in range(len(data)):\n",
    "        sent_id_1 = []\n",
    "        for word in data[i][0]:\n",
    "            if word in words_ft:\n",
    "                sent_id_1.append(words_ft[word])\n",
    "            else:\n",
    "                word = '<unk>'\n",
    "                sent_id_1.append(words_ft[word])\n",
    "        sent_id_2 = []\n",
    "        for word in data[i][1]:\n",
    "            if word in words_ft:\n",
    "                sent_id_2.append(words_ft[word])\n",
    "            else:\n",
    "                word = '<unk>'\n",
    "                sent_id_2.append(words_ft[word])\n",
    "        data[i][2] = label_dic[data[i][2]]        \n",
    "        data_id.append([sent_id_1,sent_id_2,data[i][2]])\n",
    "    return data_id"
   ]
  },
  {
   "cell_type": "code",
   "execution_count": 11,
   "metadata": {
    "collapsed": true
   },
   "outputs": [],
   "source": [
    "train_id = token2id(train_data_tokens)\n",
    "val_id = token2id(val_data_tokens)"
   ]
  },
  {
   "cell_type": "code",
   "execution_count": 24,
   "metadata": {},
   "outputs": [
    {
     "name": "stdout",
     "output_type": "stream",
     "text": [
      "72\n",
      "27\n"
     ]
    }
   ],
   "source": [
    "len1 = []\n",
    "len2 = []\n",
    "for i in range(1000):\n",
    "    len1.append(len(train_data_tokens[i][0]))\n",
    "    len2.append(len(train_data_tokens[i][1]))\n",
    "print(max(len1))\n",
    "print(max(len2))"
   ]
  },
  {
   "cell_type": "code",
   "execution_count": 12,
   "metadata": {
    "collapsed": true
   },
   "outputs": [],
   "source": [
    "## transform to dataloader\n",
    "\n",
    "MAX_SENTENCE_LENGTH = 40\n",
    "\n",
    "import numpy as np\n",
    "import torch\n",
    "from torch.utils.data import Dataset\n",
    "\n",
    "class myDataset(Dataset):\n",
    "    \"\"\"\n",
    "    Class that represents a train/validation/test dataset that's readable for PyTorch\n",
    "    Note that this class inherits torch.utils.data.Dataset\n",
    "    \"\"\"\n",
    "    \n",
    "    def __init__(self, data_tuple):\n",
    "        \"\"\"\n",
    "        @param data_list: list of my tokens \n",
    "        @param target_list: list of my targets \n",
    "\n",
    "        \"\"\"\n",
    "        #data_list1, data_list2, target_list\n",
    "        self.data_list1, self.data_list2, self.target_list = zip(*data_tuple)\n",
    "        assert (len(self.data_list1) == len(self.target_list))\n",
    "\n",
    "    def __len__(self):\n",
    "        return len(self.data_list1)\n",
    "        \n",
    "    def __getitem__(self, key):\n",
    "        \"\"\"\n",
    "        Triggered when you call dataset[i]\n",
    "        \"\"\"\n",
    "        \n",
    "        token_idx1 = self.data_list1[key][:MAX_SENTENCE_LENGTH]\n",
    "        token_idx2 = self.data_list2[key][:MAX_SENTENCE_LENGTH]\n",
    "        label = self.target_list[key]\n",
    "        return [token_idx1, token_idx2, len(token_idx1),len(token_idx2), label]\n",
    "\n",
    "def my_collate_func(batch):\n",
    "    \"\"\"\n",
    "    Customized function for DataLoader that dynamically pads the batch so that all \n",
    "    data have the same length\n",
    "    \"\"\"\n",
    "    data_list1 = []\n",
    "    data_list2 = []\n",
    "    label_list = []\n",
    "    length_list1 = []\n",
    "    length_list2 = []\n",
    "    #print(\"collate batch: \", batch[0][0])\n",
    "    #batch[0][0] = batch[0][0][:MAX_SENTENCE_LENGTH]\n",
    "    for datum in batch:\n",
    "        label_list.append(datum[4])\n",
    "        length_list1.append(datum[2])\n",
    "        length_list2.append(datum[3])\n",
    "    # padding\n",
    "    for datum in batch:\n",
    "        padded_vec1 = np.pad(np.array(datum[0]), \n",
    "                                pad_width=((0,MAX_SENTENCE_LENGTH-datum[2])), \n",
    "                                mode=\"constant\", constant_values=0)\n",
    "        data_list1.append(padded_vec1)\n",
    "        padded_vec2 = np.pad(np.array(datum[1]), \n",
    "                                pad_width=((0,MAX_SENTENCE_LENGTH-datum[3])), \n",
    "                                mode=\"constant\", constant_values=0)\n",
    "        data_list2.append(padded_vec2)\n",
    "    #ind_dec_order_1 = np.argsort(length_list1)[::-1]\n",
    "    #ind_dec_order_2 = np.argsort(length_list2)[::-1]\n",
    "    #data_list1 = np.array(data_list1)[ind_dec_order_1]\n",
    "    #length_list1 = np.array(length_list1)[ind_dec_order_1]\n",
    "\n",
    "    #data_list2 = np.array(data_list2)[ind_dec_order_2]\n",
    "    #length_list2 = np.array(length_list2)[ind_dec_order_2]\n",
    "    #label_list = np.array(label_list)[ind_dec_order]\n",
    "    \n",
    "    # keep track of original order:\n",
    "    #ind_order_1 = np.argsort(ind_dec_order_1)\n",
    "    #ind_order_2 = np.argsort(ind_dec_order_2)\n",
    "    \n",
    "    return [torch.from_numpy(np.array(data_list1)).to(device),torch.from_numpy(np.array(data_list2)).to(device), \n",
    "            torch.LongTensor(length_list1).to(device), \n",
    "            torch.LongTensor(length_list2).to(device), torch.LongTensor(label_list).to(device)]\n",
    "\n",
    "# create pytorch dataloader\n",
    "#train_loader = myDataset(train_data_indices, train_targets)\n",
    "#val_loader = myDataset(val_data_indices, val_targets)\n",
    "#test_loader = myDataset(test_data_indices, test_targets)\n",
    "\n",
    "BATCH_SIZE = 32\n",
    "\n",
    "train_dataset = myDataset(train_id)\n",
    "train_loader = torch.utils.data.DataLoader(dataset=train_dataset, \n",
    "                                           batch_size=BATCH_SIZE,\n",
    "                                           collate_fn=my_collate_func,\n",
    "                                           shuffle=True)\n",
    "\n",
    "val_dataset = myDataset(val_id)\n",
    "val_loader = torch.utils.data.DataLoader(dataset=val_dataset, \n",
    "                                           batch_size=BATCH_SIZE,\n",
    "                                           collate_fn=my_collate_func,\n",
    "                                           shuffle=True)"
   ]
  },
  {
   "cell_type": "markdown",
   "metadata": {},
   "source": [
    "## CNN"
   ]
  },
  {
   "cell_type": "code",
   "execution_count": 115,
   "metadata": {
    "collapsed": true
   },
   "outputs": [],
   "source": [
    "# CNN\n",
    "class CNN(nn.Module):\n",
    "    def __init__(self, emb_size, hidden_size, num_layers, num_classes, vocab_size,kernel_size):\n",
    "\n",
    "        super(CNN, self).__init__()\n",
    "\n",
    "        self.num_layers, self.hidden_size = num_layers, hidden_size\n",
    "        self.embedding = nn.Embedding.from_pretrained(torch.from_numpy(loaded_embeddings_ft))  #nn.Embedding(vocab_size, emb_size, padding_idx=PAD_IDX)\n",
    "    \n",
    "        self.conv1 = nn.Conv1d(emb_size, hidden_size, kernel_size, padding=1)\n",
    "        self.conv2 = nn.Conv1d(hidden_size, hidden_size, kernel_size, padding=1)\n",
    "        #self.maxpool = nn.MaxPool1d(kernel_size = 3, padding=1)\n",
    "        self.maxpool = nn.MaxPool1d(MAX_SENTENCE_LENGTH-kernel_size+1)\n",
    "        self.linear1 = nn.Linear(2*hidden_size, hidden_size)\n",
    "        self.linear2 = nn.Linear(hidden_size, num_classes)\n",
    "\n",
    "    def forward(self, x1, x2, lengths1, lengths2):\n",
    "        batch_size, seq_len = x1.size()\n",
    "\n",
    "        embed_1 = self.embedding(x1).float()\n",
    "        embed_2 = self.embedding(x2).float()\n",
    "        \n",
    "        hidden_1 = self.conv1(embed_1.transpose(1,2)).transpose(1,2)\n",
    "        #hidden_1 = F.relu(hidden_1)\n",
    "        hidden_1 = F.relu(hidden_1.contiguous().view(-1, hidden_1.size(-1))).view(batch_size, seq_len, hidden_1.size(-1))\n",
    "        #hidden_1 = self.maxpool(hidden_1).view(batch_size,hidden_1.size(-1))\n",
    "        \n",
    "        hidden_1 = self.conv2(hidden_1.transpose(1,2)).transpose(1,2)\n",
    "        #hidden_1 = F.relu(hidden_1)\n",
    "        hidden_1 = F.relu(hidden_1.contiguous().view(-1, hidden_1.size(-1))).view(batch_size, seq_len, hidden_1.size(-1))\n",
    "        #hidden_1 = self.maxpool(hidden_1).view(batch_size,hidden_1.size(-1))\n",
    "        hidden_1 = torch.max(hidden_1,dim=1)[0]\n",
    "\n",
    "        #hidden_1 = torch.sum(hidden_1, dim=1)\n",
    "\n",
    "        hidden_2 = self.conv1(embed_2.transpose(1,2)).transpose(1,2)\n",
    "        #hidden_2 = F.relu(hidden_2)\n",
    "        hidden_2 = F.relu(hidden_2.contiguous().view(-1, hidden_2.size(-1))).view(batch_size, seq_len, hidden_2.size(-1))\n",
    "        #hidden_2 = self.maxpool(hidden_2).view(batch_size,hidden_2.size(-1))\n",
    "        hidden_2 = self.conv2(hidden_2.transpose(1,2)).transpose(1,2)\n",
    "        #hidden_2 = F.relu(hidden_2)\n",
    "        hidden_2 = F.relu(hidden_2.contiguous().view(-1, hidden_2.size(-1))).view(batch_size, seq_len, hidden_2.size(-1))\n",
    "        #hidden_2 = self.maxpool(hidden_2).view(batch_size,hidden_2.size(-1))\n",
    "        hidden_2 = torch.max(hidden_2,dim=1)[0]\n",
    "        \n",
    "        #hidden_2 = torch.sum(hidden_2, dim=1)\n",
    "        \n",
    "        ## concat:\n",
    "        hidden = torch.cat((hidden_1, hidden_2), 1)\n",
    "        \n",
    "        ## element-wise multiplication\n",
    "        #hidden = hidden_1 * hidden_2\n",
    "\n",
    "\n",
    "        logits = self.linear1(hidden)\n",
    "        logits = torch.tanh(logits)\n",
    "        logits = self.linear2(logits)\n",
    "        \n",
    "        return logits"
   ]
  },
  {
   "cell_type": "code",
   "execution_count": 116,
   "metadata": {},
   "outputs": [
    {
     "name": "stderr",
     "output_type": "stream",
     "text": [
      "/usr/local/lib/python3.5/dist-packages/ipykernel_launcher.py:43: UserWarning: invalid index of a 0-dim tensor. This will be an error in PyTorch 0.5. Use tensor.item() to convert a 0-dim tensor to a Python number\n"
     ]
    },
    {
     "name": "stdout",
     "output_type": "stream",
     "text": [
      "Epoch: [1/10], Step: [1001/3125], Validation Acc: 62.1, Train Acc: 62.079, loss: 0.29427653551101685\n",
      "Epoch: [1/10], Step: [2001/3125], Validation Acc: 64.3, Train Acc: 64.389, loss: 0.5650834441184998\n",
      "Epoch: [1/10], Step: [3001/3125], Validation Acc: 64.8, Train Acc: 65.679, loss: 0.8290256857872009\n",
      "Epoch: [2/10], Step: [1001/3125], Validation Acc: 63.4, Train Acc: 67.147, loss: 0.25121408700942993\n",
      "Epoch: [2/10], Step: [2001/3125], Validation Acc: 64.9, Train Acc: 68.271, loss: 0.5005056262016296\n",
      "Epoch: [2/10], Step: [3001/3125], Validation Acc: 64.5, Train Acc: 69.121, loss: 0.7474497556686401\n",
      "Epoch: [3/10], Step: [1001/3125], Validation Acc: 66.2, Train Acc: 70.414, loss: 0.23049212992191315\n",
      "Epoch: [3/10], Step: [2001/3125], Validation Acc: 65.2, Train Acc: 71.131, loss: 0.46164774894714355\n",
      "Epoch: [3/10], Step: [3001/3125], Validation Acc: 66.5, Train Acc: 72.998, loss: 0.6938256025314331\n",
      "Epoch: [4/10], Step: [1001/3125], Validation Acc: 66.0, Train Acc: 73.766, loss: 0.2125099003314972\n",
      "Epoch: [4/10], Step: [2001/3125], Validation Acc: 64.8, Train Acc: 74.949, loss: 0.42803335189819336\n",
      "Epoch: [4/10], Step: [3001/3125], Validation Acc: 66.2, Train Acc: 74.829, loss: 0.6457338929176331\n",
      "Epoch: [5/10], Step: [1001/3125], Validation Acc: 66.6, Train Acc: 76.786, loss: 0.19616800546646118\n",
      "Epoch: [5/10], Step: [2001/3125], Validation Acc: 64.9, Train Acc: 77.053, loss: 0.396338552236557\n",
      "Epoch: [5/10], Step: [3001/3125], Validation Acc: 67.5, Train Acc: 78.427, loss: 0.5993216037750244\n",
      "Epoch: [6/10], Step: [1001/3125], Validation Acc: 65.9, Train Acc: 79.495, loss: 0.17910228669643402\n",
      "Epoch: [6/10], Step: [2001/3125], Validation Acc: 66.4, Train Acc: 80.838, loss: 0.3629697859287262\n",
      "Epoch: [6/10], Step: [3001/3125], Validation Acc: 66.3, Train Acc: 81.031, loss: 0.5522236824035645\n",
      "Epoch: [7/10], Step: [1001/3125], Validation Acc: 66.1, Train Acc: 82.043, loss: 0.1603817194700241\n",
      "Epoch: [7/10], Step: [2001/3125], Validation Acc: 66.1, Train Acc: 82.974, loss: 0.3280535340309143\n",
      "Epoch: [7/10], Step: [3001/3125], Validation Acc: 66.7, Train Acc: 83.55, loss: 0.5033056139945984\n",
      "Epoch: [8/10], Step: [1001/3125], Validation Acc: 67.5, Train Acc: 84.233, loss: 0.14398793876171112\n",
      "Epoch: [8/10], Step: [2001/3125], Validation Acc: 69.2, Train Acc: 85.367, loss: 0.2963186502456665\n",
      "Epoch: [8/10], Step: [3001/3125], Validation Acc: 66.8, Train Acc: 85.06, loss: 0.4562409222126007\n",
      "Epoch: [9/10], Step: [1001/3125], Validation Acc: 66.6, Train Acc: 86.432, loss: 0.12683680653572083\n",
      "Epoch: [9/10], Step: [2001/3125], Validation Acc: 67.5, Train Acc: 86.709, loss: 0.26561930775642395\n",
      "Epoch: [9/10], Step: [3001/3125], Validation Acc: 67.5, Train Acc: 87.541, loss: 0.41092708706855774\n",
      "Epoch: [10/10], Step: [1001/3125], Validation Acc: 65.9, Train Acc: 88.589, loss: 0.11218380928039551\n",
      "Epoch: [10/10], Step: [2001/3125], Validation Acc: 65.1, Train Acc: 88.473, loss: 0.23544417321681976\n",
      "Epoch: [10/10], Step: [3001/3125], Validation Acc: 67.2, Train Acc: 88.757, loss: 0.3676493763923645\n"
     ]
    }
   ],
   "source": [
    "from tqdm import tqdm_notebook\n",
    "\n",
    "def test_model(loader, model):\n",
    "    \"\"\"\n",
    "    Help function that tests the model's performance on a dataset\n",
    "    @param: loader - data loader for the dataset to test against\n",
    "    \"\"\"\n",
    "    correct = 0\n",
    "    total = 0\n",
    "    model.eval()\n",
    "    for data1,data2, lengths1,lengths2, labels in loader:\n",
    "        data_batch_1,data_batch_2, lengths_batch1,lengths_batch2, label_batch= data1,data2, lengths1, lengths2, labels\n",
    "        outputs = F.softmax(model(data_batch_1,data_batch_2, lengths_batch1,lengths_batch2), dim=1)\n",
    "        predicted = outputs.max(1, keepdim=True)[1]\n",
    "\n",
    "        total += labels.size(0)\n",
    "        correct += predicted.eq(labels.view_as(predicted)).sum().item()\n",
    "    return (100 * correct / total)\n",
    "\n",
    "\n",
    "model = CNN(emb_size=300, hidden_size=200, num_layers=2, num_classes=3, vocab_size=50000,kernel_size=3)\n",
    "model.cuda()\n",
    "\n",
    "learning_rate = 0.001\n",
    "num_epochs = 10 # number epoch to train\n",
    "\n",
    "# Criterion and Optimizer\n",
    "criterion = torch.nn.CrossEntropyLoss()\n",
    "optimizer = torch.optim.Adam(model.parameters(), lr=learning_rate)\n",
    "\n",
    "# Train the model\n",
    "total_step = len(train_loader)\n",
    "Train_Acc = []\n",
    "Val_Acc = []\n",
    "for epoch in range(num_epochs):\n",
    "    train_loss = 0\n",
    "    for i, (data1, data2, lengths1, lengths2, labels) in enumerate(train_loader):\n",
    "        model.train()\n",
    "        optimizer.zero_grad()\n",
    "        # Forward pass\n",
    "        outputs = model(data1,data2, lengths1, lengths2)\n",
    "        loss = criterion(outputs, labels)\n",
    "        train_loss += loss.data[0]\n",
    "\n",
    "        # Backward and optimize\n",
    "        loss.backward()\n",
    "        optimizer.step()\n",
    "        # validate every 1000 iterations\n",
    "        if i > 0 and i % 1000 == 0:\n",
    "            # validate\n",
    "            val_acc = test_model(val_loader, model)\n",
    "            train_acc = test_model(train_loader, model)\n",
    "            Train_Acc.append(train_acc)\n",
    "            Val_Acc.append(val_acc)\n",
    "            print('Epoch: [{}/{}], Step: [{}/{}], Validation Acc: {}, Train Acc: {}, loss: {}'.format(\n",
    "                       epoch+1, num_epochs, i+1, len(train_loader), val_acc, train_acc,  train_loss / len(train_loader)))\n"
   ]
  },
  {
   "cell_type": "code",
   "execution_count": 50,
   "metadata": {},
   "outputs": [
    {
     "data": {
      "text/plain": [
       "68.4"
      ]
     },
     "execution_count": 50,
     "metadata": {},
     "output_type": "execute_result"
    }
   ],
   "source": [
    "max(Val_Acc)"
   ]
  },
  {
   "cell_type": "code",
   "execution_count": 136,
   "metadata": {},
   "outputs": [
    {
     "name": "stderr",
     "output_type": "stream",
     "text": [
      "/usr/local/lib/python3.5/dist-packages/ipykernel_launcher.py:39: UserWarning: invalid index of a 0-dim tensor. This will be an error in PyTorch 0.5. Use tensor.item() to convert a 0-dim tensor to a Python number\n"
     ]
    },
    {
     "name": "stdout",
     "output_type": "stream",
     "text": [
      "Epoch: [1/10], Step: [1001/3125], Validation Acc: 58.6\n",
      "Epoch: [1/10], Step: [2001/3125], Validation Acc: 62.3\n",
      "Epoch: [1/10], Step: [3001/3125], Validation Acc: 62.8\n",
      "Epoch: [2/10], Step: [1001/3125], Validation Acc: 60.5\n",
      "Epoch: [2/10], Step: [2001/3125], Validation Acc: 61.8\n",
      "Epoch: [2/10], Step: [3001/3125], Validation Acc: 63.2\n",
      "Epoch: [3/10], Step: [1001/3125], Validation Acc: 62.6\n",
      "Epoch: [3/10], Step: [2001/3125], Validation Acc: 64.1\n",
      "Epoch: [3/10], Step: [3001/3125], Validation Acc: 65.1\n",
      "Epoch: [4/10], Step: [1001/3125], Validation Acc: 65.1\n",
      "Epoch: [4/10], Step: [2001/3125], Validation Acc: 66.7\n",
      "Epoch: [4/10], Step: [3001/3125], Validation Acc: 65.3\n",
      "Epoch: [5/10], Step: [1001/3125], Validation Acc: 64.9\n",
      "Epoch: [5/10], Step: [2001/3125], Validation Acc: 65.8\n",
      "Epoch: [5/10], Step: [3001/3125], Validation Acc: 66.1\n",
      "Epoch: [6/10], Step: [1001/3125], Validation Acc: 66.7\n",
      "Epoch: [6/10], Step: [2001/3125], Validation Acc: 65.7\n",
      "Epoch: [6/10], Step: [3001/3125], Validation Acc: 67.4\n",
      "Epoch: [7/10], Step: [1001/3125], Validation Acc: 66.7\n",
      "Epoch: [7/10], Step: [2001/3125], Validation Acc: 67.6\n",
      "Epoch: [7/10], Step: [3001/3125], Validation Acc: 66.5\n",
      "Epoch: [8/10], Step: [1001/3125], Validation Acc: 67.8\n",
      "Epoch: [8/10], Step: [2001/3125], Validation Acc: 67.3\n",
      "Epoch: [8/10], Step: [3001/3125], Validation Acc: 66.5\n",
      "Epoch: [9/10], Step: [1001/3125], Validation Acc: 67.9\n",
      "Epoch: [9/10], Step: [2001/3125], Validation Acc: 66.6\n",
      "Epoch: [9/10], Step: [3001/3125], Validation Acc: 67.7\n",
      "Epoch: [10/10], Step: [1001/3125], Validation Acc: 66.9\n",
      "Epoch: [10/10], Step: [2001/3125], Validation Acc: 67.5\n",
      "Epoch: [10/10], Step: [3001/3125], Validation Acc: 66.8\n"
     ]
    }
   ],
   "source": [
    "def test_model(loader, model):\n",
    "    \"\"\"\n",
    "    Help function that tests the model's performance on a dataset\n",
    "    @param: loader - data loader for the dataset to test against\n",
    "    \"\"\"\n",
    "    correct = 0\n",
    "    total = 0\n",
    "    model.eval()\n",
    "    for data1,data2, lengths1,lengths2, labels in loader:\n",
    "        data_batch_1,data_batch_2, lengths_batch1,lengths_batch2, label_batch= data1,data2, lengths1, lengths2, labels\n",
    "        outputs = F.softmax(model(data_batch_1,data_batch_2, lengths_batch1,lengths_batch2), dim=1)\n",
    "        predicted = outputs.max(1, keepdim=True)[1]\n",
    "\n",
    "        total += labels.size(0)\n",
    "        correct += predicted.eq(labels.view_as(predicted)).sum().item()\n",
    "    return (100 * correct / total)\n",
    "\n",
    "\n",
    "model = CNN(emb_size=300, hidden_size=50, num_layers=2, num_classes=3, vocab_size=50000,kernel_size=3)\n",
    "model.cuda()\n",
    "\n",
    "learning_rate = 0.001\n",
    "num_epochs = 10 # number epoch to train\n",
    "\n",
    "# Criterion and Optimizer\n",
    "criterion = torch.nn.CrossEntropyLoss()\n",
    "optimizer = torch.optim.Adam(model.parameters(), lr=learning_rate)\n",
    "\n",
    "# Train the model\n",
    "total_step = len(train_loader)\n",
    "for epoch in range(num_epochs):\n",
    "    train_loss = 0\n",
    "    for i, (data1, data2, lengths1, lengths2, labels) in enumerate(train_loader):\n",
    "        model.train()\n",
    "        optimizer.zero_grad()\n",
    "        # Forward pass\n",
    "        outputs = model(data1,data2, lengths1, lengths2)\n",
    "        loss = criterion(outputs, labels)\n",
    "        train_loss += loss.data[0]\n",
    "\n",
    "        # Backward and optimize\n",
    "        loss.backward()\n",
    "        optimizer.step()\n",
    "        # validate every 1000 iterations\n",
    "        if i > 0 and i % 1000 == 0:\n",
    "            # validate\n",
    "            val_acc = test_model(val_loader, model)\n",
    "            print('Epoch: [{}/{}], Step: [{}/{}], Validation Acc: {}'.format(\n",
    "                       epoch+1, num_epochs, i+1, len(train_loader), val_acc))\n",
    "\n"
   ]
  },
  {
   "cell_type": "markdown",
   "metadata": {},
   "source": [
    "## RNN"
   ]
  },
  {
   "cell_type": "code",
   "execution_count": null,
   "metadata": {},
   "outputs": [],
   "source": [
    "## RNN *** bidirectional, gru, with 2 fully connected layers\n",
    "PAD_IDX = 0\n",
    "class RNN(nn.Module):\n",
    "    def __init__(self, emb_size, hidden_size, num_layers, num_classes, vocab_size):\n",
    "        # RNN Accepts the following hyperparams:\n",
    "        # emb_size: Embedding Size # embed into continuous vector\n",
    "        # hidden_size: Hidden Size of layer in RNN\n",
    "        # num_layers: number of layers in RNN\n",
    "        # num_classes: number of output classes\n",
    "        # vocab_size: vocabulary size\n",
    "        super(RNN, self).__init__()\n",
    "\n",
    "        self.num_layers, self.hidden_size = num_layers, hidden_size\n",
    "        self.embedding = nn.Embedding.from_pretrained(torch.from_numpy(loaded_embeddings_ft))#.cuda()\n",
    "        self.gru = nn.GRU(emb_size, hidden_size, num_layers, batch_first=True, bidirectional=True)\n",
    "        \n",
    "        self.linear1 = nn.Linear(hidden_size, hidden_size)\n",
    "        self.linear2 = nn.Linear(hidden_size, num_classes)\n",
    "\n",
    "    def init_hidden(self, batch_size):\n",
    "        # Function initializes the activation of recurrent neural net at timestep 0\n",
    "        # Needs to be in format (num_layers, batch_size, hidden_size)\n",
    "        hidden = torch.randn(self.num_layers*2, batch_size, self.hidden_size)\n",
    "        hidden = hidden.cuda()\n",
    "\n",
    "        return hidden\n",
    "\n",
    "    def forward(self, x1, x2, lengths1,lengths2):\n",
    "        # reset hidden state\n",
    "\n",
    "        batch_size, seq_len = x1.size()\n",
    "\n",
    "        hidden_1 = self.init_hidden(batch_size)\n",
    "        hidden_2 = self.init_hidden(batch_size)\n",
    "\n",
    "        ## sort x1, x2 in descending order\n",
    "        _, ind1 = torch.sort(lengths1, dim=0, descending=True)\n",
    "        _, ind2 = torch.sort(lengths2, dim=0, descending=True)\n",
    "        _, unind1 = torch.sort(ind1, dim=0)\n",
    "        _, unind2 = torch.sort(ind2, dim=0)\n",
    "        x1 = x1.index_select(0,ind1)\n",
    "        x2 = x2.index_select(0,ind2)\n",
    "        lengths1 = lengths1.index_select(0,ind1)\n",
    "        lengths2 = lengths2.index_select(0,ind2)\n",
    "        \n",
    "        #print(type(x1))\n",
    "        # get embedding of characters\n",
    "        embed_1 = self.embedding(x1).float()\n",
    "        \n",
    "        embed_2 = self.embedding(x2).float()\n",
    "\n",
    "        # pack padded sequence\n",
    "        embed_1 = torch.nn.utils.rnn.pack_padded_sequence(embed_1, lengths1.cpu().numpy(), batch_first=True)\n",
    "        embed_2 = torch.nn.utils.rnn.pack_padded_sequence(embed_2, lengths2.cpu().numpy(), batch_first=True)\n",
    "\n",
    "        _, hidden_1 = self.gru(embed_1, hidden_1)\n",
    "        _, hidden_2 = self.gru(embed_2, hidden_2)\n",
    "\n",
    "\n",
    "        hidden_1 = hidden_1.index_select(1,unind1)\n",
    "        #print(hidden_1.shape)\n",
    "        hidden_2 = hidden_2.index_select(1,unind2)\n",
    "        \n",
    "        \n",
    "        hidden_1 = torch.max(hidden_1, dim=0)[0]\n",
    "        #print(hidden_1.shape)\n",
    "        hidden_2 = torch.max(hidden_2, dim=0)[0]\n",
    "        \n",
    "        \n",
    "        ## concat:\n",
    "        #hidden = torch.cat((hidden_1, hidden_2), 1)\n",
    "        \n",
    "        ## element wise multiplication:\n",
    "        hidden = hidden_1 * hidden_2\n",
    "\n",
    "        logits = self.linear1(hidden)\n",
    "        logits = torch.tanh(logits)\n",
    "        logits = self.linear2(logits)        \n",
    "\n",
    "\n",
    "        return logits\n"
   ]
  },
  {
   "cell_type": "code",
   "execution_count": 111,
   "metadata": {
    "collapsed": true
   },
   "outputs": [
    {
     "name": "stdout",
     "output_type": "stream",
     "text": [
      "start:\n",
      "\n",
      "483.42864085\n",
      "Epoch: [1/10], Step: [1001/3125], Validation Acc: 54.8, Train Acc: 55.716, loss: 0.8937720060348511\n",
      "Epoch: [1/10], Step: [2001/3125], Validation Acc: 59.6, Train Acc: 59.627, loss: 0.7011268734931946\n",
      "Epoch: [1/10], Step: [3001/3125], Validation Acc: 60.3, Train Acc: 63.164, loss: 0.7405701875686646\n",
      "Epoch: [2/10], Step: [1001/3125], Validation Acc: 64.7, Train Acc: 66.009, loss: 0.7355993390083313\n",
      "Epoch: [2/10], Step: [2001/3125], Validation Acc: 69.0, Train Acc: 68.21, loss: 0.7544618248939514\n",
      "Epoch: [2/10], Step: [3001/3125], Validation Acc: 68.5, Train Acc: 68.758, loss: 0.5797196626663208\n",
      "Epoch: [3/10], Step: [1001/3125], Validation Acc: 67.9, Train Acc: 70.058, loss: 0.8906170129776001\n",
      "Epoch: [3/10], Step: [2001/3125], Validation Acc: 66.5, Train Acc: 70.626, loss: 0.8185067772865295\n",
      "Epoch: [3/10], Step: [3001/3125], Validation Acc: 69.9, Train Acc: 71.966, loss: 0.5813447833061218\n",
      "Epoch: [4/10], Step: [1001/3125], Validation Acc: 67.4, Train Acc: 72.873, loss: 0.6433400511741638\n",
      "Epoch: [4/10], Step: [2001/3125], Validation Acc: 69.0, Train Acc: 73.84, loss: 0.7496302723884583\n",
      "Epoch: [4/10], Step: [3001/3125], Validation Acc: 69.6, Train Acc: 73.609, loss: 0.5110811591148376\n",
      "Epoch: [5/10], Step: [1001/3125], Validation Acc: 69.2, Train Acc: 75.07, loss: 0.6786374449729919\n",
      "Epoch: [5/10], Step: [2001/3125], Validation Acc: 68.6, Train Acc: 75.66, loss: 0.91314697265625\n",
      "Epoch: [5/10], Step: [3001/3125], Validation Acc: 69.7, Train Acc: 76.573, loss: 0.8864812850952148\n",
      "Epoch: [6/10], Step: [1001/3125], Validation Acc: 71.0, Train Acc: 77.161, loss: 0.9604626297950745\n",
      "Epoch: [6/10], Step: [2001/3125], Validation Acc: 70.3, Train Acc: 78.228, loss: 0.6087610125541687\n",
      "Epoch: [6/10], Step: [3001/3125], Validation Acc: 70.5, Train Acc: 78.876, loss: 0.7133792638778687\n",
      "Epoch: [7/10], Step: [1001/3125], Validation Acc: 70.1, Train Acc: 79.08, loss: 0.5084704160690308\n",
      "Epoch: [7/10], Step: [2001/3125], Validation Acc: 71.5, Train Acc: 79.772, loss: 0.3023885488510132\n",
      "Epoch: [7/10], Step: [3001/3125], Validation Acc: 71.5, Train Acc: 80.704, loss: 0.8659400343894958\n",
      "Epoch: [8/10], Step: [1001/3125], Validation Acc: 71.6, Train Acc: 80.655, loss: 0.4992053806781769\n",
      "Epoch: [8/10], Step: [2001/3125], Validation Acc: 71.5, Train Acc: 81.665, loss: 0.49229973554611206\n",
      "Epoch: [8/10], Step: [3001/3125], Validation Acc: 71.7, Train Acc: 82.42, loss: 0.48181700706481934\n",
      "Epoch: [9/10], Step: [1001/3125], Validation Acc: 70.6, Train Acc: 83.47, loss: 0.3259086608886719\n",
      "Epoch: [9/10], Step: [2001/3125], Validation Acc: 71.6, Train Acc: 83.569, loss: 0.48146331310272217\n",
      "Epoch: [9/10], Step: [3001/3125], Validation Acc: 71.1, Train Acc: 84.113, loss: 0.3792123794555664\n",
      "Epoch: [10/10], Step: [1001/3125], Validation Acc: 70.8, Train Acc: 84.413, loss: 0.5344262719154358\n",
      "Epoch: [10/10], Step: [2001/3125], Validation Acc: 71.6, Train Acc: 85.732, loss: 0.2781769037246704\n",
      "Epoch: [10/10], Step: [3001/3125], Validation Acc: 70.8, Train Acc: 85.999, loss: 0.23842042684555054\n",
      "end\n",
      "542.8847917833333\n"
     ]
    }
   ],
   "source": [
    "import time\n",
    "\n",
    "def test_model(loader, model):\n",
    "    \"\"\"\n",
    "    Help function that tests the model's performance on a dataset\n",
    "    @param: loader - data loader for the dataset to test against\n",
    "    \"\"\"\n",
    "    correct = 0\n",
    "    total = 0\n",
    "    model.eval()\n",
    "    for data1,data2, lengths1,lengths2, labels in loader:\n",
    "        data_batch_1,data_batch_2, lengths_batch1,lengths_batch2, label_batch = data1,data2, lengths1, lengths2, labels \n",
    "        outputs = F.softmax(model(data_batch_1,data_batch_2, lengths_batch1,lengths_batch2), dim=1)\n",
    "        predicted = outputs.max(1, keepdim=True)[1]\n",
    "\n",
    "        total += labels.size(0)\n",
    "        correct += predicted.eq(labels.view_as(predicted)).sum().item()\n",
    "    return (100 * correct / total)\n",
    "\n",
    "\n",
    "model = RNN(emb_size=300, hidden_size=100, num_layers=2, num_classes=3, vocab_size=50000)\n",
    "model.cuda()\n",
    "\n",
    "learning_rate = 0.001\n",
    "num_epochs = 10 # number epoch to train\n",
    "\n",
    "# Criterion and Optimizer\n",
    "criterion = torch.nn.CrossEntropyLoss()\n",
    "optimizer = torch.optim.Adam(model.parameters(), lr=learning_rate)\n",
    "\n",
    "# Train the model\n",
    "total_step = len(train_loader)\n",
    "Train_Acc = []\n",
    "Val_Acc = []\n",
    "print('start:\\n')\n",
    "print(time.clock() / 60)\n",
    "for epoch in range(num_epochs):\n",
    "    for i, (data1, data2, lengths1, lengths2, labels) in enumerate(train_loader):\n",
    "        model.train()\n",
    "        optimizer.zero_grad()\n",
    "        # Forward pass\n",
    "        outputs = model(data1,data2, lengths1, lengths2)\n",
    "        loss = criterion(outputs, labels)\n",
    "\n",
    "        # Backward and optimize\n",
    "        loss.backward()\n",
    "        optimizer.step()\n",
    "        # validate every 100 iterations\n",
    "        if i > 0 and i % 1000 == 0:\n",
    "            # validate\n",
    "            val_acc = test_model(val_loader, model)\n",
    "            train_acc = test_model(train_loader, model)\n",
    "            Train_Acc.append(train_acc)\n",
    "            Val_Acc.append(val_acc)\n",
    "            print('Epoch: [{}/{}], Step: [{}/{}], Validation Acc: {}, Train Acc: {}, loss: {}'.format(\n",
    "                       epoch+1, num_epochs, i+1, len(train_loader), val_acc, train_acc,  loss))\n",
    "\n",
    "print('end')\n",
    "print(time.clock() / 60)"
   ]
  },
  {
   "cell_type": "code",
   "execution_count": 139,
   "metadata": {
    "collapsed": true
   },
   "outputs": [
    {
     "name": "stdout",
     "output_type": "stream",
     "text": [
      "start:\n",
      "\n",
      "602.05972495\n",
      "Epoch: [1/10], Step: [1001/3125], Validation Acc: 55.5\n",
      "Epoch: [1/10], Step: [2001/3125], Validation Acc: 61.9\n",
      "Epoch: [1/10], Step: [3001/3125], Validation Acc: 66.1\n",
      "Epoch: [2/10], Step: [1001/3125], Validation Acc: 65.4\n",
      "Epoch: [2/10], Step: [2001/3125], Validation Acc: 68.4\n",
      "Epoch: [2/10], Step: [3001/3125], Validation Acc: 68.1\n",
      "Epoch: [3/10], Step: [1001/3125], Validation Acc: 68.1\n",
      "Epoch: [3/10], Step: [2001/3125], Validation Acc: 68.3\n",
      "Epoch: [3/10], Step: [3001/3125], Validation Acc: 70.6\n",
      "Epoch: [4/10], Step: [1001/3125], Validation Acc: 68.4\n",
      "Epoch: [4/10], Step: [2001/3125], Validation Acc: 71.9\n",
      "Epoch: [4/10], Step: [3001/3125], Validation Acc: 71.2\n",
      "Epoch: [5/10], Step: [1001/3125], Validation Acc: 70.5\n",
      "Epoch: [5/10], Step: [2001/3125], Validation Acc: 70.8\n",
      "Epoch: [5/10], Step: [3001/3125], Validation Acc: 72.6\n",
      "Epoch: [6/10], Step: [1001/3125], Validation Acc: 69.6\n",
      "Epoch: [6/10], Step: [2001/3125], Validation Acc: 72.7\n",
      "Epoch: [6/10], Step: [3001/3125], Validation Acc: 70.6\n",
      "Epoch: [7/10], Step: [1001/3125], Validation Acc: 70.1\n",
      "Epoch: [7/10], Step: [2001/3125], Validation Acc: 71.7\n",
      "Epoch: [7/10], Step: [3001/3125], Validation Acc: 72.7\n",
      "Epoch: [8/10], Step: [1001/3125], Validation Acc: 69.7\n",
      "Epoch: [8/10], Step: [2001/3125], Validation Acc: 71.1\n",
      "Epoch: [8/10], Step: [3001/3125], Validation Acc: 70.7\n",
      "Epoch: [9/10], Step: [1001/3125], Validation Acc: 71.0\n",
      "Epoch: [9/10], Step: [2001/3125], Validation Acc: 70.6\n",
      "Epoch: [9/10], Step: [3001/3125], Validation Acc: 71.7\n",
      "Epoch: [10/10], Step: [1001/3125], Validation Acc: 70.0\n",
      "Epoch: [10/10], Step: [2001/3125], Validation Acc: 70.2\n",
      "Epoch: [10/10], Step: [3001/3125], Validation Acc: 69.9\n",
      "end\n",
      "614.7463136\n"
     ]
    }
   ],
   "source": [
    "import time\n",
    "\n",
    "def test_model(loader, model):\n",
    "    \"\"\"\n",
    "    Help function that tests the model's performance on a dataset\n",
    "    @param: loader - data loader for the dataset to test against\n",
    "    \"\"\"\n",
    "    correct = 0\n",
    "    total = 0\n",
    "    model.eval()\n",
    "    for data1,data2, lengths1,lengths2, labels in loader:\n",
    "        data_batch_1,data_batch_2, lengths_batch1,lengths_batch2, label_batch = data1,data2, lengths1, lengths2, labels \n",
    "        outputs = F.softmax(model(data_batch_1,data_batch_2, lengths_batch1,lengths_batch2), dim=1)\n",
    "        predicted = outputs.max(1, keepdim=True)[1]\n",
    "\n",
    "        total += labels.size(0)\n",
    "        correct += predicted.eq(labels.view_as(predicted)).sum().item()\n",
    "    return (100 * correct / total)\n",
    "\n",
    "\n",
    "model_rnn = RNN(emb_size=300, hidden_size=100, num_layers=1, num_classes=3, vocab_size=50000)\n",
    "model_rnn.cuda()\n",
    "\n",
    "learning_rate = 0.001\n",
    "num_epochs = 10 # number epoch to train\n",
    "\n",
    "# Criterion and Optimizer\n",
    "criterion = torch.nn.CrossEntropyLoss()\n",
    "optimizer = torch.optim.Adam(model_rnn.parameters(), lr=learning_rate)\n",
    "\n",
    "# Train the model\n",
    "total_step = len(train_loader)\n",
    "print('start:\\n')\n",
    "print(time.clock() / 60)\n",
    "for epoch in range(num_epochs):\n",
    "    for i, (data1, data2, lengths1, lengths2, labels) in enumerate(train_loader):\n",
    "        model_rnn.train()\n",
    "        optimizer.zero_grad()\n",
    "        # Forward pass\n",
    "        outputs = model_rnn(data1,data2, lengths1, lengths2)\n",
    "        loss = criterion(outputs, labels)\n",
    "        # Backward and optimize\n",
    "        loss.backward()\n",
    "        optimizer.step()\n",
    "        # validate every 100 iterations\n",
    "        if i > 0 and i % 1000 == 0:\n",
    "            # validate\n",
    "            val_acc = test_model(val_loader, model_rnn)\n",
    "            print('Epoch: [{}/{}], Step: [{}/{}], Validation Acc: {}'.format(\n",
    "                       epoch+1, num_epochs, i+1, len(train_loader), val_acc))\n",
    "\n",
    "print('end')\n",
    "print(time.clock() / 60)"
   ]
  },
  {
   "cell_type": "code",
   "execution_count": 112,
   "metadata": {
    "collapsed": true
   },
   "outputs": [],
   "source": [
    "rnn_train_acc_mul_100 = Train_Acc\n",
    "rnn_val_acc_mul_100 = Val_Acc"
   ]
  },
  {
   "cell_type": "code",
   "execution_count": 117,
   "metadata": {
    "collapsed": true
   },
   "outputs": [],
   "source": [
    "cnn_train_acc_concat_200 = Train_Acc\n",
    "cnn_val_acc_concat_200 = Val_Acc"
   ]
  },
  {
   "cell_type": "code",
   "execution_count": 118,
   "metadata": {},
   "outputs": [],
   "source": [
    "import csv\n",
    "\n",
    "res = [cnn_train_acc_concat_200, cnn_val_acc_concat_200]\n",
    "csvfile = '/home/jupyter/cnn_concat_200.csv'\n",
    "with open(csvfile, \"w\") as output:\n",
    "    writer = csv.writer(output, lineterminator='\\n')\n",
    "    writer.writerows(res)"
   ]
  },
  {
   "cell_type": "code",
   "execution_count": 121,
   "metadata": {},
   "outputs": [
    {
     "data": {
      "image/png": "[encoded data removed]",
      "text/plain": [
       "<Figure size 432x288 with 1 Axes>"
      ]
     },
     "metadata": {},
     "output_type": "display_data"
    }
   ],
   "source": [
    "import matplotlib.pyplot as plt\n",
    "%matplotlib inline\n",
    "plt.plot(rnn_train_acc_concat_200,'-o')\n",
    "#plt.legend(['validation'])\n",
    "plt.plot(rnn_val_acc_concat_200,'-o')\n",
    "plt.xlabel('training steps')\n",
    "plt.ylabel('Accuracy')\n",
    "plt.legend(('train','validation'))\n",
    "plt.title('RNN+hidden size 200+concatenation')\n",
    "\n",
    "plt.savefig('/home/jupyter/rnn_acc_concat_200.png')"
   ]
  },
  {
   "cell_type": "code",
   "execution_count": 37,
   "metadata": {},
   "outputs": [],
   "source": [
    "import pandas as pd"
   ]
  },
  {
   "cell_type": "code",
   "execution_count": 43,
   "metadata": {},
   "outputs": [],
   "source": [
    "rnn_acc_concat_200 = pd.read_csv('/home/jupyter/rnn_concat_200.csv',header = None)\n",
    "rnn_acc_concat_200.T[0].plot()"
   ]
  },
  {
   "cell_type": "code",
   "execution_count": 81,
   "metadata": {},
   "outputs": [
    {
     "name": "stdout",
     "output_type": "stream",
     "text": [
      "64.7\n",
      "66.2\n",
      "68.9\n",
      "67.2\n",
      "66.8\n"
     ]
    }
   ],
   "source": [
    "print(max(cnn_val_acc_concat_10))\n",
    "print(max(cnn_val_acc_concat_20))\n",
    "print(max(cnn_val_acc_concat_50))\n",
    "print(max(cnn_val_acc_concat_100))\n",
    "print(max(cnn_val_acc_concat_500))"
   ]
  },
  {
   "cell_type": "code",
   "execution_count": 109,
   "metadata": {},
   "outputs": [
    {
     "name": "stdout",
     "output_type": "stream",
     "text": [
      "65.1\n",
      "68.3\n",
      "70.6\n",
      "70.0\n",
      "70.9\n",
      "70.8\n"
     ]
    }
   ],
   "source": [
    "print(max(rnn_val_acc_concat_10))\n",
    "print(max(rnn_val_acc_concat_20))\n",
    "print(max(rnn_val_acc_concat_50))\n",
    "print(max(rnn_val_acc_concat_100))\n",
    "print(max(rnn_val_acc_concat_200))\n",
    "print(max(rnn_val_acc_concat_500))"
   ]
  },
  {
   "cell_type": "markdown",
   "metadata": {},
   "source": [
    "## MultiNLI"
   ]
  },
  {
   "cell_type": "markdown",
   "metadata": {},
   "source": [
    "Imort MNLI dataset"
   ]
  },
  {
   "cell_type": "code",
   "execution_count": 123,
   "metadata": {},
   "outputs": [],
   "source": [
    "#train = pd.read_table('mnli_train.tsv')\n",
    "val = pd.read_table('mnli_val.tsv')\n",
    "\n",
    "#fiction_train = train.loc[train['genre']=='fiction'][['sentence1','sentence2','label']].values.tolist()\n",
    "#telephone_train = train.loc[train['genre']=='telephone'][['sentence1','sentence2','label']].values.tolist()\n",
    "#slate_train = train.loc[train['genre']=='slate'][['sentence1','sentence2','label']].values.tolist()\n",
    "#government_train = train.loc[train['genre']=='government'][['sentence1','sentence2','label']].values.tolist()\n",
    "#travel_train = train.loc[train['genre']=='travel'][['sentence1','sentence2','label']].values.tolist()\n",
    "\n",
    "fiction_val = val.loc[val['genre']=='fiction'][['sentence1','sentence2','label']].values.tolist()\n",
    "telephone_val = val.loc[val['genre']=='telephone'][['sentence1','sentence2','label']].values.tolist()\n",
    "slate_val = val.loc[val['genre']=='slate'][['sentence1','sentence2','label']].values.tolist()\n",
    "government_val = val.loc[val['genre']=='government'][['sentence1','sentence2','label']].values.tolist()\n",
    "travel_val = val.loc[val['genre']=='travel'][['sentence1','sentence2','label']].values.tolist()"
   ]
  },
  {
   "cell_type": "markdown",
   "metadata": {},
   "source": [
    "Tokenization"
   ]
  },
  {
   "cell_type": "code",
   "execution_count": 124,
   "metadata": {},
   "outputs": [],
   "source": [
    "#tokenize(fiction_train)\n",
    "tokenize(fiction_val)\n",
    "\n",
    "#tokenize(telephone_train)\n",
    "tokenize(telephone_val)\n",
    "\n",
    "#tokenize(slate_train)\n",
    "tokenize(slate_val)\n",
    "\n",
    "#tokenize(government_train)\n",
    "tokenize(government_val)\n",
    "\n",
    "#tokenize(travel_train)\n",
    "tokenize(travel_val)"
   ]
  },
  {
   "cell_type": "code",
   "execution_count": 126,
   "metadata": {},
   "outputs": [],
   "source": [
    "#fiction_train_id = token2id(fiction_train)\n",
    "fiction_val_id = token2id(fiction_val)\n",
    "\n",
    "#telephone_train_id = token2id(telephone_train)\n",
    "telephone_val_id = token2id(telephone_val)\n",
    "\n",
    "#slate_train_id = token2id(slate_train)\n",
    "slate_val_id = token2id(slate_val)\n",
    "\n",
    "#government_train_id = token2id(government_train)\n",
    "government_val_id = token2id(government_val)\n",
    "\n",
    "#travel_train_id = token2id(travel_train)\n",
    "travel_val_id = token2id(travel_val)"
   ]
  },
  {
   "cell_type": "code",
   "execution_count": 134,
   "metadata": {},
   "outputs": [],
   "source": [
    "fiction_val_dataset = myDataset(fiction_val_id)\n",
    "fiction_val_loader = torch.utils.data.DataLoader(dataset=fiction_val_dataset, \n",
    "                                           batch_size=BATCH_SIZE,\n",
    "                                           collate_fn=my_collate_func,\n",
    "                                           shuffle=True)\n",
    "\n",
    "telephone_val_dataset = myDataset(telephone_val_id)\n",
    "telephone_val_loader = torch.utils.data.DataLoader(dataset=telephone_val_dataset, \n",
    "                                           batch_size=BATCH_SIZE,\n",
    "                                           collate_fn=my_collate_func,\n",
    "                                           shuffle=True)\n",
    "\n",
    "slate_val_dataset = myDataset(slate_val_id)\n",
    "slate_val_loader = torch.utils.data.DataLoader(dataset=slate_val_dataset, \n",
    "                                           batch_size=BATCH_SIZE,\n",
    "                                           collate_fn=my_collate_func,\n",
    "                                           shuffle=True)\n",
    "\n",
    "government_val_dataset = myDataset(government_val_id)\n",
    "government_val_loader = torch.utils.data.DataLoader(dataset=government_val_dataset, \n",
    "                                           batch_size=BATCH_SIZE,\n",
    "                                           collate_fn=my_collate_func,\n",
    "                                           shuffle=True)\n",
    "\n",
    "travel_val_dataset = myDataset(travel_val_id)\n",
    "travel_val_loader = torch.utils.data.DataLoader(dataset=travel_val_dataset, \n",
    "                                           batch_size=BATCH_SIZE,\n",
    "                                           collate_fn=my_collate_func,\n",
    "                                           shuffle=True)\n"
   ]
  },
  {
   "cell_type": "code",
   "execution_count": 137,
   "metadata": {},
   "outputs": [
    {
     "name": "stdout",
     "output_type": "stream",
     "text": [
      "CNN\n",
      "Validation Accuracy for fiction: 44.824120603015075\n",
      "Validation Accuracy for telephone: 45.97014925373134\n",
      "Validation Accuracy for slate: 42.71457085828343\n",
      "Validation Accuracy for government: 43.30708661417323\n",
      "Validation Accuracy for travel: 45.11201629327902\n"
     ]
    }
   ],
   "source": [
    "print('CNN')\n",
    "print('Validation Accuracy for fiction: {}'.format(test_model(fiction_val_loader, model)))\n",
    "print('Validation Accuracy for telephone: {}'.format(test_model(telephone_val_loader, model)))\n",
    "print('Validation Accuracy for slate: {}'.format(test_model(slate_val_loader, model)))\n",
    "print('Validation Accuracy for government: {}'.format(test_model(government_val_loader, model)))\n",
    "print('Validation Accuracy for travel: {}'.format(test_model(travel_val_loader, model)))"
   ]
  },
  {
   "cell_type": "code",
   "execution_count": 135,
   "metadata": {},
   "outputs": [
    {
     "name": "stdout",
     "output_type": "stream",
     "text": [
      "RNN\n",
      "Validation Accuracy for fiction: 44.321608040201006\n",
      "Validation Accuracy for telephone: 40.69651741293532\n",
      "Validation Accuracy for slate: 41.91616766467066\n",
      "Validation Accuracy for government: 46.06299212598425\n",
      "Validation Accuracy for travel: 43.17718940936864\n"
     ]
    }
   ],
   "source": [
    "print('RNN')\n",
    "print('Validation Accuracy for fiction: {}'.format(test_model(fiction_val_loader, model)))\n",
    "print('Validation Accuracy for telephone: {}'.format(test_model(telephone_val_loader, model)))\n",
    "print('Validation Accuracy for slate: {}'.format(test_model(slate_val_loader, model)))\n",
    "print('Validation Accuracy for government: {}'.format(test_model(government_val_loader, model)))\n",
    "print('Validation Accuracy for travel: {}'.format(test_model(travel_val_loader, model)))"
   ]
  },
  {
   "cell_type": "markdown",
   "metadata": {},
   "source": [
    "Get examples"
   ]
  },
  {
   "cell_type": "code",
   "execution_count": 140,
   "metadata": {},
   "outputs": [],
   "source": [
    "def test_model_2(loader, model):\n",
    "    \"\"\"\n",
    "    Help function that tests the model's performance on a dataset\n",
    "    @param: loader - data loader for the dataset to test against\n",
    "    \"\"\"\n",
    "    correct = 0\n",
    "    total = 0\n",
    "    i=0\n",
    "    pred = []\n",
    "    label = []\n",
    "    DATA1 = []\n",
    "    DATA2 = []\n",
    "    model.eval()\n",
    "    for data1, data2, lengths1, lengths2, labels in loader:\n",
    "        data_batch_1,data_batch_2, lengths_batch1,lengths_batch2, label_batch = data1,data2, lengths1, lengths2, labels\n",
    "        outputs = F.softmax(model(data_batch_1,data_batch_2, lengths_batch1,lengths_batch2), dim=1)\n",
    "        predicted = outputs.max(1, keepdim=True)[1]\n",
    "        pred.append(predicted.view_as(labels))\n",
    "        DATA1.append(data1)\n",
    "        DATA2.append(data2)\n",
    "        label.append(labels)\n",
    "        total += labels.size(0)\n",
    "        correct += predicted.eq(labels.view_as(predicted)).sum().item()\n",
    "    return DATA1, DATA2, pred, label"
   ]
  },
  {
   "cell_type": "code",
   "execution_count": 141,
   "metadata": {},
   "outputs": [],
   "source": [
    "DATA1, DATA2, pred, label = test_model_2(val_loader,model_rnn)"
   ]
  },
  {
   "cell_type": "code",
   "execution_count": 206,
   "metadata": {},
   "outputs": [
    {
     "name": "stdout",
     "output_type": "stream",
     "text": [
      "label: tensor([1, 2, 1, 0, 2, 2, 0, 1, 0, 1, 0, 0, 0, 1, 1, 1, 0, 2, 2, 0, 0, 0, 1, 0,\n",
      "        1, 1, 1, 2, 2, 1, 1, 1], device='cuda:0')\n",
      "prediction: tensor([2, 1, 1, 0, 2, 2, 0, 1, 0, 1, 0, 0, 0, 1, 1, 1, 0, 2, 0, 0, 2, 0, 1, 2,\n",
      "        1, 1, 1, 1, 2, 1, 1, 1], device='cuda:0')\n",
      "equal: tensor([0, 0, 1, 1, 1, 1, 1, 1, 1, 1, 1, 1, 1, 1, 1, 1, 1, 1, 0, 1, 0, 1, 1, 0,\n",
      "        1, 1, 1, 0, 1, 1, 1, 1], device='cuda:0', dtype=torch.uint8)\n"
     ]
    }
   ],
   "source": [
    "i=20\n",
    "print('label: {}'.format(label[i]))\n",
    "print('prediction: {}'.format(pred[i]))\n",
    "print('equal: {}'.format(label[i] == pred[i]))"
   ]
  },
  {
   "cell_type": "code",
   "execution_count": 210,
   "metadata": {},
   "outputs": [
    {
     "name": "stdout",
     "output_type": "stream",
     "text": [
      "a surfer is riding the waves whilst another surfer sits on his board waiting .\n",
      "A surfer watches as his friend is eaten by a large shark .\n",
      "true label: contradiction\n",
      "predicted label: neutral\n"
     ]
    }
   ],
   "source": [
    "j=0\n",
    "example1 = DATA1[i][j]\n",
    "example1 = example1.tolist()\n",
    "example1 = list(filter(lambda a: a != 0, example1))\n",
    "example1_text = []\n",
    "for m in range(len(example1)):\n",
    "    example1_text.append(idx2words_ft[example1[m]])\n",
    "    \n",
    "example2 = DATA2[i][j]\n",
    "example2 = example2.tolist()\n",
    "example2 = list(filter(lambda a: a != 0, example2))\n",
    "example2_text = []\n",
    "for k in range(len(example2)):\n",
    "    example2_text.append(idx2words_ft[example2[k]])    \n",
    "\n",
    "    \n",
    "print(' '.join(example1_text))\n",
    "print(' '.join(example2_text))\n",
    "print('true label: {}'.format(list(label_dic.keys())[list(label_dic.values()).index(label[i][j])]))\n",
    "print('predicted label: {}'.format(list(label_dic.keys())[list(label_dic.values()).index(pred[i][j])]))"
   ]
  },
  {
   "cell_type": "code",
   "execution_count": 188,
   "metadata": {},
   "outputs": [
    {
     "data": {
      "text/plain": [
       "tensor(0, device='cuda:0')"
      ]
     },
     "execution_count": 188,
     "metadata": {},
     "output_type": "execute_result"
    }
   ],
   "source": [
    "k=1\n",
    "pred[i][k]"
   ]
  },
  {
   "cell_type": "code",
   "execution_count": null,
   "metadata": {},
   "outputs": [],
   "source": []
  }
 ],
 "metadata": {
  "kernelspec": {
   "display_name": "Python 3",
   "language": "python",
   "name": "python3"
  },
  "language_info": {
   "codemirror_mode": {
    "name": "ipython",
    "version": 3
   },
   "file_extension": ".py",
   "mimetype": "text/x-python",
   "name": "python",
   "nbconvert_exporter": "python",
   "pygments_lexer": "ipython3",
   "version": "3.5.3"
  }
 },
 "nbformat": 4,
 "nbformat_minor": 2
}
