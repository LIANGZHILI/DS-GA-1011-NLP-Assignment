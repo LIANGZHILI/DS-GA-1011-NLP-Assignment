{
 "cells": [
  {
   "cell_type": "markdown",
   "metadata": {},
   "source": [
    "## Assignment 1 for DS-GA 1011\n",
    "#### Liangzhi Li\n"
   ]
  },
  {
   "cell_type": "code",
   "execution_count": 6,
   "metadata": {
    "collapsed": true
   },
   "outputs": [],
   "source": [
    "import matplotlib.pyplot as plt\n",
    "%matplotlib inline\n",
    "import numpy as np\n",
    "import pandas as pd\n",
    "import random\n",
    "import os, sys"
   ]
  },
  {
   "cell_type": "markdown",
   "metadata": {},
   "source": [
    "### Read data and split train data into training set and validation set"
   ]
  },
  {
   "cell_type": "code",
   "execution_count": 2,
   "metadata": {
    "collapsed": true
   },
   "outputs": [],
   "source": [
    "def readPath(path):\n",
    "    texts = []\n",
    "    for file in os.listdir(path):\n",
    "        filename = path+file\n",
    "        with open(filename) as f:\n",
    "            texts.append(f.read())\n",
    "    return texts"
   ]
  },
  {
   "cell_type": "code",
   "execution_count": 3,
   "metadata": {
    "collapsed": true
   },
   "outputs": [],
   "source": [
    "path_pos = '/Users/amberli/Downloads/CDS/fall 2018/nlp/aclImdb/train/pos/'\n",
    "path_neg = '/Users/amberli/Downloads/CDS/fall 2018/nlp/aclImdb/train/neg/'"
   ]
  },
  {
   "cell_type": "code",
   "execution_count": 7,
   "metadata": {},
   "outputs": [],
   "source": [
    "from sklearn.model_selection import train_test_split\n",
    "\n",
    "train_data = []\n",
    "train_data.extend(readPath(path_pos))\n",
    "train_data.extend(readPath(path_neg))\n",
    "train_target = []\n",
    "train_target.extend([1]*12500)\n",
    "train_target.extend([0]*12500)\n",
    "\n",
    "train_data, val_data, train_target, val_target = train_test_split(\n",
    "    train_data, train_target, test_size=0.2, random_state=2018)\n",
    "\n",
    "test_data = [] \n",
    "test_data.extend(readPath(path_pos))\n",
    "test_data.extend(readPath(path_neg))\n",
    "test_target = []\n",
    "test_target.extend([1]*12500)\n",
    "test_target.extend([0]*12500)"
   ]
  },
  {
   "cell_type": "code",
   "execution_count": 8,
   "metadata": {},
   "outputs": [
    {
     "name": "stdout",
     "output_type": "stream",
     "text": [
      "Train dataset size is 20000\n",
      "Val dataset size is 5000\n",
      "Test dataset size is 25000\n"
     ]
    }
   ],
   "source": [
    "print (\"Train dataset size is {}\".format(len(train_data)))\n",
    "print (\"Val dataset size is {}\".format(len(val_data)))\n",
    "print (\"Test dataset size is {}\".format(len(test_data)))"
   ]
  },
  {
   "cell_type": "markdown",
   "metadata": {},
   "source": [
    "## Tokenization"
   ]
  },
  {
   "cell_type": "code",
   "execution_count": 360,
   "metadata": {
    "collapsed": true
   },
   "outputs": [],
   "source": [
    "import spacy\n",
    "import string\n",
    "\n",
    "# Load English tokenizer, tagger, parser, NER and word vectors\n",
    "tokenizer = spacy.load('en_core_web_sm')  # 'en_core_web_sm': English Vocabulary, syntax, entities\n",
    "punctuations = string.punctuation"
   ]
  },
  {
   "cell_type": "code",
   "execution_count": 315,
   "metadata": {
    "collapsed": true
   },
   "outputs": [],
   "source": [
    "def tokenize(sent):\n",
    "    sent = sent.replace('<br />','')\n",
    "    tokens = tokenizer(sent)\n",
    "    return [token.text.lower() for token in tokens if (token.text not in punctuations)]  # takenize the sentence and change to lowercase\n",
    "\n",
    "def tokenize_dataset(dataset):\n",
    "    token_dataset = []\n",
    "    # we are keeping track of all tokens in dataset \n",
    "    # in order to create vocabulary later\n",
    "    all_tokens = []\n",
    "    \n",
    "    for sample in tqdm_notebook(dataset):\n",
    "        tokens = tokenize(sample)\n",
    "        token_dataset.append(tokens)\n",
    "        all_tokens += tokens\n",
    "\n",
    "    return token_dataset, all_tokens"
   ]
  },
  {
   "cell_type": "code",
   "execution_count": 405,
   "metadata": {
    "collapsed": true
   },
   "outputs": [],
   "source": [
    "from tqdm import tqdm_notebook\n",
    "import pickle as pkl\n",
    "\n",
    "## tokenization scheme 1: lower case + remove punctuation:\n",
    "def lower_case_remove_punc(parsed):\n",
    "    return [token.text.lower() for token in parsed if (token.text not in punctuations)]\n",
    "\n",
    "## scheme 2: lower case + remove punctuation + remove line breakers '\\n'\n",
    "def lower_case_remove_punc_line_break(parsed):\n",
    "    a = a.text.replace('<br />','')\n",
    "    a = tokenizer(a)\n",
    "    return [token.text.lower() for token in parsed if (token.text not in punctuations)]\n",
    "\n",
    "## scheme 3: without lower case and do not remove anything\n",
    "def without_tokenization(parsed):\n",
    "    return [token.text for token in parsed]\n",
    "\n",
    "\n",
    "def tokenize_dataset(dataset):\n",
    "    token_dataset = []\n",
    "    # we are keeping track of all tokens in dataset\n",
    "    # in order to create vocabulary later\n",
    "    all_tokens = []\n",
    "\n",
    "    for sample in tqdm_notebook(tokenizer.pipe(dataset, disable=['parser', 'tagger', 'ner'], batch_size=512, n_threads=1)):\n",
    "        tokens = lower_case_remove_punc(sample)\n",
    "        #tokens = without_tokenization(sample)\n",
    "        #tokens = lower_case_remove_punc_line_break(sample)\n",
    "        token_dataset.append(tokens)\n",
    "        all_tokens += tokens\n",
    "\n",
    "    return token_dataset, all_tokens"
   ]
  },
  {
   "cell_type": "code",
   "execution_count": 406,
   "metadata": {},
   "outputs": [
    {
     "name": "stdout",
     "output_type": "stream",
     "text": [
      "Tokenizing val data\n"
     ]
    },
    {
     "data": {
      "application/vnd.jupyter.widget-view+json": {
       "model_id": "3c6dac2df9d54a278abc653c76d1f838",
       "version_major": 2,
       "version_minor": 0
      },
      "text/plain": [
       "A Jupyter Widget"
      ]
     },
     "metadata": {},
     "output_type": "display_data"
    },
    {
     "name": "stdout",
     "output_type": "stream",
     "text": [
      "Tokenizing test data\n"
     ]
    },
    {
     "data": {
      "application/vnd.jupyter.widget-view+json": {
       "model_id": "2182c065b36549e28b6ccf6be16385ed",
       "version_major": 2,
       "version_minor": 0
      },
      "text/plain": [
       "A Jupyter Widget"
      ]
     },
     "metadata": {},
     "output_type": "display_data"
    },
    {
     "name": "stdout",
     "output_type": "stream",
     "text": [
      "Tokenizing train data\n"
     ]
    },
    {
     "data": {
      "application/vnd.jupyter.widget-view+json": {
       "model_id": "cc45c2993c9d4ddbaf8ffc77c40ec66d",
       "version_major": 2,
       "version_minor": 0
      },
      "text/plain": [
       "A Jupyter Widget"
      ]
     },
     "metadata": {},
     "output_type": "display_data"
    }
   ],
   "source": [
    "# val set tokens\n",
    "print (\"Tokenizing val data\")\n",
    "val_data_tokens, _ = tokenize_dataset(val_data)\n",
    "pkl.dump(val_data_tokens, open(\"val_data_tokens.p\", \"wb\"))\n",
    "\n",
    "from tqdm import tqdm\n",
    "# test set tokens\n",
    "print (\"Tokenizing test data\")\n",
    "test_data_tokens, _ = tokenize_dataset(test_data)\n",
    "pkl.dump(test_data_tokens, open(\"test_data_tokens.p\", \"wb\"))\n",
    "\n",
    "# train set tokens\n",
    "print (\"Tokenizing train data\")\n",
    "train_data_tokens, all_train_tokens = tokenize_dataset(train_data)\n",
    "pkl.dump(train_data_tokens, open(\"train_data_tokens.p\", \"wb\"))\n",
    "\n",
    "pkl.dump(all_train_tokens, open(\"all_train_tokens.p\", \"wb\"))"
   ]
  },
  {
   "cell_type": "markdown",
   "metadata": {},
   "source": [
    "### open tokenized files"
   ]
  },
  {
   "cell_type": "code",
   "execution_count": 459,
   "metadata": {},
   "outputs": [],
   "source": [
    "train_data_tokens = pkl.load(open(\"train_data_tokens.p\", \"rb\"))\n",
    "all_train_tokens = pkl.load(open(\"all_train_tokens.p\", \"rb\"))\n",
    "\n",
    "val_data_tokens = pkl.load(open(\"val_data_tokens.p\", \"rb\"))\n",
    "test_data_tokens = pkl.load(open(\"test_data_tokens.p\", \"rb\"))"
   ]
  },
  {
   "cell_type": "code",
   "execution_count": 13,
   "metadata": {
    "collapsed": true
   },
   "outputs": [],
   "source": [
    "# convert word to ngrams\n",
    "def word2ngram(data,n):\n",
    "    ngram_list=[]\n",
    "    for sentence in data:\n",
    "        ngram = [tuple(sentence[i] for i in range(i,i+n)) for i in range(len(sentence)-n+1)]\n",
    "        ngram_list.append(ngram)\n",
    "    return ngram_list\n",
    "\n",
    "def word2ngram_all_tokens(data,n):\n",
    "    ngram_list=[]\n",
    "    for i in range(len(data)-n+1):\n",
    "        ngram = tuple(data[i] for i in range(i,i+n))\n",
    "        ngram_list.append(ngram)\n",
    "    return ngram_list"
   ]
  },
  {
   "cell_type": "code",
   "execution_count": 428,
   "metadata": {},
   "outputs": [],
   "source": [
    "def word2bigram(data):\n",
    "    ngram_list=[]\n",
    "    for sentence in data:\n",
    "        ngram = [tuple(sentence[i] for i in range(i,i+2)) for i in range(len(sentence)-2+1)]\n",
    "        for i in range(len(sentence)):\n",
    "            ngram.append(sentence[i])\n",
    "        ngram_list.append(ngram)\n",
    "    return ngram_list\n",
    "\n",
    "def word2bigram_all_tokens(data):\n",
    "    ngram_list=[]\n",
    "    for i in range(len(data)-2+1):\n",
    "        ngram_list.append(tuple(data[i] for i in range(i,i+2)))\n",
    "        ngram_list.append(data[i])\n",
    "    return ngram_list"
   ]
  },
  {
   "cell_type": "code",
   "execution_count": 327,
   "metadata": {
    "collapsed": true
   },
   "outputs": [],
   "source": [
    "all_train_tokens = word2ngram_all_tokens(all_train_tokens,2)\n",
    "train_data_tokens = word2ngram(train_data_tokens,2)\n",
    "val_data_tokens = word2ngram(val_data_tokens,2)\n",
    "test_data_tokens = word2ngram(test_data_tokens,2)"
   ]
  },
  {
   "cell_type": "code",
   "execution_count": 433,
   "metadata": {},
   "outputs": [],
   "source": [
    "all_train_tokens = word2bigram_all_tokens(all_train_tokens)\n",
    "train_data_tokens = word2bigram(train_data_tokens)\n",
    "val_data_tokens = word2bigram(val_data_tokens)\n",
    "test_data_tokens = word2bigram(test_data_tokens)"
   ]
  },
  {
   "cell_type": "markdown",
   "metadata": {
    "collapsed": true
   },
   "source": [
    "## Build Vocabulary"
   ]
  },
  {
   "cell_type": "code",
   "execution_count": 460,
   "metadata": {
    "collapsed": true
   },
   "outputs": [],
   "source": [
    "# create the vocabulary of most common N tokens in the training set.\n",
    "from collections import Counter\n",
    "\n",
    "max_vocab_size = 20000\n",
    "# save index 0 for unk and 1 for pad\n",
    "PAD_IDX = 0\n",
    "UNK_IDX = 1\n",
    "\n",
    "def build_vocab(all_tokens):\n",
    "    # Returns:\n",
    "    # id2token: list of tokens, where id2token[i] returns token that corresponds to token i\n",
    "    # token2id: dictionary where keys represent tokens and corresponding values represent indices\n",
    "    token_counter = Counter(all_tokens)\n",
    "    vocab, count = zip(*token_counter.most_common(max_vocab_size))    # select most commen 10000 token\n",
    "    id2token = list(vocab)\n",
    "    token2id = dict(zip(vocab, range(2,2+len(vocab)))) \n",
    "    id2token = ['<pad>', '<unk>'] + id2token\n",
    "    token2id['<pad>'] = PAD_IDX \n",
    "    token2id['<unk>'] = UNK_IDX\n",
    "    return token2id, id2token\n",
    "\n",
    "token2id, id2token = build_vocab(all_train_tokens)"
   ]
  },
  {
   "cell_type": "code",
   "execution_count": 461,
   "metadata": {},
   "outputs": [
    {
     "name": "stdout",
     "output_type": "stream",
     "text": [
      "Token id 12037 ; token cooler\n",
      "Token cooler; token id 12037\n"
     ]
    }
   ],
   "source": [
    "random_token_id = random.randint(0, len(id2token)-1)\n",
    "random_token = id2token[random_token_id]\n",
    "\n",
    "print (\"Token id {} ; token {}\".format(random_token_id, id2token[random_token_id]))\n",
    "print (\"Token {}; token id {}\".format(random_token, token2id[random_token]))"
   ]
  },
  {
   "cell_type": "code",
   "execution_count": 462,
   "metadata": {},
   "outputs": [
    {
     "name": "stdout",
     "output_type": "stream",
     "text": [
      "Train dataset size is 20000\n",
      "Val dataset size is 5000\n",
      "Test dataset size is 25000\n"
     ]
    }
   ],
   "source": [
    "# convert token to id in the dataset\n",
    "def token2index_dataset(tokens_data):\n",
    "    indices_data = []\n",
    "    for tokens in tokens_data:\n",
    "        index_list = [token2id[token] if token in token2id else UNK_IDX for token in tokens]\n",
    "        indices_data.append(index_list)\n",
    "    return indices_data\n",
    "\n",
    "train_data_indices = token2index_dataset(train_data_tokens)\n",
    "val_data_indices = token2index_dataset(val_data_tokens)\n",
    "test_data_indices = token2index_dataset(test_data_tokens)\n",
    "\n",
    "# double checking\n",
    "print (\"Train dataset size is {}\".format(len(train_data_indices)))\n",
    "print (\"Val dataset size is {}\".format(len(val_data_indices)))\n",
    "print (\"Test dataset size is {}\".format(len(test_data_indices)))"
   ]
  },
  {
   "cell_type": "markdown",
   "metadata": {},
   "source": [
    "## Create pytorch DataLoader"
   ]
  },
  {
   "cell_type": "code",
   "execution_count": 463,
   "metadata": {
    "collapsed": true
   },
   "outputs": [],
   "source": [
    "MAX_SENTENCE_LENGTH = 200\n",
    "\n",
    "import numpy as np\n",
    "import torch\n",
    "from torch.utils.data import Dataset\n",
    "\n",
    "## data loader\n",
    "\n",
    "class IMDB_Dataset(Dataset):\n",
    "    \"\"\"\n",
    "    Class that represents a train/validation/test dataset that's readable for PyTorch\n",
    "    Note that this class inherits torch.utils.data.Dataset\n",
    "    \"\"\"\n",
    "    \n",
    "    def __init__(self, data_list, target_list):\n",
    "        \"\"\"\n",
    "        @param data_list: list of newsgroup tokens \n",
    "        @param target_list: list of newsgroup targets \n",
    "\n",
    "        \"\"\"\n",
    "        self.data_list = data_list\n",
    "        self.target_list = target_list\n",
    "        assert (len(self.data_list) == len(self.target_list))\n",
    "\n",
    "    def __len__(self):\n",
    "        return len(self.data_list)\n",
    "        \n",
    "    def __getitem__(self, key):\n",
    "        \"\"\"\n",
    "        Triggered when you call dataset[i]\n",
    "        \"\"\"\n",
    "        \n",
    "        token_idx = self.data_list[key][:MAX_SENTENCE_LENGTH]\n",
    "        label = self.target_list[key]\n",
    "        return [token_idx, len(token_idx), label]\n",
    "\n",
    "def IMDB_collate_func(batch):\n",
    "    \"\"\"\n",
    "    Customized function for DataLoader that dynamically pads the batch so that all \n",
    "    data have the same length\n",
    "    \"\"\"\n",
    "    data_list = []\n",
    "    label_list = []\n",
    "    length_list = []\n",
    "    #print(\"collate batch: \", batch[0][0])\n",
    "    #batch[0][0] = batch[0][0][:MAX_SENTENCE_LENGTH]\n",
    "    for datum in batch:\n",
    "        label_list.append(datum[2])\n",
    "        length_list.append(datum[1])\n",
    "    # padding\n",
    "    for datum in batch:\n",
    "        padded_vec = np.pad(np.array(datum[0]), \n",
    "                                pad_width=((0,MAX_SENTENCE_LENGTH-datum[1])), \n",
    "                                mode=\"constant\", constant_values=0)\n",
    "        data_list.append(padded_vec)\n",
    "    return [torch.from_numpy(np.array(data_list)), torch.LongTensor(length_list), torch.LongTensor(label_list)]\n",
    "\n",
    "# create pytorch dataloader\n",
    "#train_loader = NewsGroupDataset(train_data_indices, train_targets)\n",
    "#val_loader = NewsGroupDataset(val_data_indices, val_targets)\n",
    "#test_loader = NewsGroupDataset(test_data_indices, test_targets)"
   ]
  },
  {
   "cell_type": "code",
   "execution_count": 477,
   "metadata": {},
   "outputs": [],
   "source": [
    "BATCH_SIZE = 32\n",
    "train_dataset = IMDB_Dataset(train_data_indices, train_target)\n",
    "train_loader = torch.utils.data.DataLoader(dataset=train_dataset, \n",
    "                                           batch_size=BATCH_SIZE,\n",
    "                                           collate_fn=IMDB_collate_func,\n",
    "                                           shuffle=True)\n",
    "\n",
    "val_dataset = IMDB_Dataset(val_data_indices, val_target)\n",
    "val_loader = torch.utils.data.DataLoader(dataset=val_dataset, \n",
    "                                           batch_size=BATCH_SIZE,\n",
    "                                           collate_fn=IMDB_collate_func,\n",
    "                                           shuffle=True)\n",
    "\n",
    "test_dataset = IMDB_Dataset(test_data_indices, test_target)\n",
    "test_loader = torch.utils.data.DataLoader(dataset=test_dataset, \n",
    "                                           batch_size=BATCH_SIZE,\n",
    "                                           collate_fn=IMDB_collate_func,\n",
    "                                           shuffle=False)\n",
    "\n",
    "#for i, (data, lengths, labels) in enumerate(train_loader):\n",
    "#    print (data)\n",
    "#    print (labels)\n",
    "#    break"
   ]
  },
  {
   "cell_type": "markdown",
   "metadata": {},
   "source": [
    "## Define bag-of-ngram model"
   ]
  },
  {
   "cell_type": "code",
   "execution_count": 478,
   "metadata": {},
   "outputs": [],
   "source": [
    "# First import torch related libraries\n",
    "import torch\n",
    "import torch.nn as nn\n",
    "import torch.nn.functional as F\n",
    "\n",
    "class BagOfNgram(nn.Module):\n",
    "    \"\"\"\n",
    "    BagOfWords classification model\n",
    "    \"\"\"\n",
    "    def __init__(self, vocab_size, emb_dim):\n",
    "        \"\"\"\n",
    "        @param vocab_size: size of the vocabulary. \n",
    "        @param emb_dim: size of the word embedding\n",
    "        \"\"\"\n",
    "        super(BagOfNgram, self).__init__()\n",
    "        # pay attention to padding_idx \n",
    "        self.embed = nn.Embedding(vocab_size, emb_dim, padding_idx=0)\n",
    "        self.linear = nn.Linear(emb_dim,20)\n",
    "    \n",
    "    def forward(self, data, length):\n",
    "        \"\"\"\n",
    "        \n",
    "        @param data: matrix of size (batch_size, max_sentence_length). Each row in data represents a \n",
    "            review that is represented using n-gram index. Note that they are padded to have same length.\n",
    "        @param length: an int tensor of size (batch_size), which represents the non-trivial (excludes padding)\n",
    "            length of each sentences in the data.\n",
    "        \"\"\"\n",
    "        out = self.embed(data)\n",
    "        out = torch.sum(out, dim=1)\n",
    "        out /= length.view(length.size()[0],1).expand_as(out).float()\n",
    "     \n",
    "        # return logits\n",
    "        out = self.linear(out.float())\n",
    "        return out\n",
    "\n",
    "emb_dim = 100\n",
    "model = BagOfNgram(len(id2token), emb_dim)"
   ]
  },
  {
   "cell_type": "code",
   "execution_count": 479,
   "metadata": {},
   "outputs": [
    {
     "name": "stdout",
     "output_type": "stream",
     "text": [
      "Epoch: [1/10], Step: [101/625], Validation Acc: 78.78, loss: 0.5432278513908386\n",
      "Epoch: [1/10], Step: [201/625], Validation Acc: 84.2, loss: 0.5663700103759766\n",
      "Epoch: [1/10], Step: [301/625], Validation Acc: 86.08, loss: 0.3199162185192108\n",
      "Epoch: [1/10], Step: [401/625], Validation Acc: 85.9, loss: 0.2217552810907364\n",
      "Epoch: [1/10], Step: [501/625], Validation Acc: 87.2, loss: 0.2655215263366699\n",
      "Epoch: [1/10], Step: [601/625], Validation Acc: 87.9, loss: 0.2848219871520996\n",
      "Epoch: [2/10], Step: [101/625], Validation Acc: 87.76, loss: 0.20186670124530792\n",
      "Epoch: [2/10], Step: [201/625], Validation Acc: 87.52, loss: 0.15709614753723145\n",
      "Epoch: [2/10], Step: [301/625], Validation Acc: 87.66, loss: 0.24893170595169067\n",
      "Epoch: [2/10], Step: [401/625], Validation Acc: 87.82, loss: 0.29584747552871704\n",
      "Epoch: [2/10], Step: [501/625], Validation Acc: 87.28, loss: 0.28986629843711853\n",
      "Epoch: [2/10], Step: [601/625], Validation Acc: 87.16, loss: 0.4625698924064636\n",
      "Epoch: [3/10], Step: [101/625], Validation Acc: 87.32, loss: 0.13045331835746765\n",
      "Epoch: [3/10], Step: [201/625], Validation Acc: 87.2, loss: 0.039299026131629944\n",
      "Epoch: [3/10], Step: [301/625], Validation Acc: 87.04, loss: 0.041895151138305664\n",
      "Epoch: [3/10], Step: [401/625], Validation Acc: 85.28, loss: 0.09397880733013153\n",
      "Epoch: [3/10], Step: [501/625], Validation Acc: 87.06, loss: 0.11873167008161545\n",
      "Epoch: [3/10], Step: [601/625], Validation Acc: 85.9, loss: 0.10902006924152374\n",
      "Epoch: [4/10], Step: [101/625], Validation Acc: 86.18, loss: 0.03635045886039734\n",
      "Epoch: [4/10], Step: [201/625], Validation Acc: 86.2, loss: 0.06968270242214203\n",
      "Epoch: [4/10], Step: [301/625], Validation Acc: 86.12, loss: 0.032688021659851074\n",
      "Epoch: [4/10], Step: [401/625], Validation Acc: 86.16, loss: 0.0686223953962326\n",
      "Epoch: [4/10], Step: [501/625], Validation Acc: 86.0, loss: 0.0174332857131958\n",
      "Epoch: [4/10], Step: [601/625], Validation Acc: 86.12, loss: 0.1353115439414978\n",
      "Epoch: [5/10], Step: [101/625], Validation Acc: 85.96, loss: 0.03901846706867218\n",
      "Epoch: [5/10], Step: [201/625], Validation Acc: 85.9, loss: 0.0390314906835556\n",
      "Epoch: [5/10], Step: [301/625], Validation Acc: 86.02, loss: 0.024075329303741455\n",
      "Epoch: [5/10], Step: [401/625], Validation Acc: 86.26, loss: 0.009025022387504578\n",
      "Epoch: [5/10], Step: [501/625], Validation Acc: 85.4, loss: 0.0073076337575912476\n",
      "Epoch: [5/10], Step: [601/625], Validation Acc: 85.8, loss: 0.02348846197128296\n",
      "Epoch: [6/10], Step: [101/625], Validation Acc: 85.64, loss: 0.00435890257358551\n",
      "Epoch: [6/10], Step: [201/625], Validation Acc: 85.3, loss: 0.009532108902931213\n",
      "Epoch: [6/10], Step: [301/625], Validation Acc: 85.56, loss: 0.008909136056900024\n",
      "Epoch: [6/10], Step: [401/625], Validation Acc: 85.56, loss: 0.005540400743484497\n",
      "Epoch: [6/10], Step: [501/625], Validation Acc: 85.56, loss: 0.0024238675832748413\n",
      "Epoch: [6/10], Step: [601/625], Validation Acc: 85.0, loss: 0.06043832004070282\n",
      "Epoch: [7/10], Step: [101/625], Validation Acc: 85.7, loss: 0.0034337639808654785\n",
      "Epoch: [7/10], Step: [201/625], Validation Acc: 85.64, loss: 0.01769927144050598\n",
      "Epoch: [7/10], Step: [301/625], Validation Acc: 85.52, loss: 0.0011312365531921387\n",
      "Epoch: [7/10], Step: [401/625], Validation Acc: 85.74, loss: 0.0026830583810806274\n",
      "Epoch: [7/10], Step: [501/625], Validation Acc: 85.54, loss: 0.0007351934909820557\n",
      "Epoch: [7/10], Step: [601/625], Validation Acc: 85.24, loss: 0.00693298876285553\n",
      "Epoch: [8/10], Step: [101/625], Validation Acc: 85.32, loss: 0.004280552268028259\n",
      "Epoch: [8/10], Step: [201/625], Validation Acc: 85.58, loss: 0.0011608153581619263\n",
      "Epoch: [8/10], Step: [301/625], Validation Acc: 85.82, loss: 0.0007265657186508179\n",
      "Epoch: [8/10], Step: [401/625], Validation Acc: 85.68, loss: 0.006077706813812256\n",
      "Epoch: [8/10], Step: [501/625], Validation Acc: 85.46, loss: 0.009845629334449768\n",
      "Epoch: [8/10], Step: [601/625], Validation Acc: 85.56, loss: 0.003169223666191101\n",
      "Epoch: [9/10], Step: [101/625], Validation Acc: 85.34, loss: 0.0022010356187820435\n",
      "Epoch: [9/10], Step: [201/625], Validation Acc: 85.48, loss: 0.0016905814409255981\n",
      "Epoch: [9/10], Step: [301/625], Validation Acc: 85.46, loss: 0.0011795908212661743\n",
      "Epoch: [9/10], Step: [401/625], Validation Acc: 85.54, loss: 0.000434190034866333\n",
      "Epoch: [9/10], Step: [501/625], Validation Acc: 85.42, loss: 0.0005100518465042114\n",
      "Epoch: [9/10], Step: [601/625], Validation Acc: 85.48, loss: 0.00027558207511901855\n",
      "Epoch: [10/10], Step: [101/625], Validation Acc: 85.5, loss: 0.00023543834686279297\n",
      "Epoch: [10/10], Step: [201/625], Validation Acc: 85.38, loss: 0.000390470027923584\n",
      "Epoch: [10/10], Step: [301/625], Validation Acc: 85.4, loss: 0.0008409470319747925\n",
      "Epoch: [10/10], Step: [401/625], Validation Acc: 85.44, loss: 0.0006663352251052856\n",
      "Epoch: [10/10], Step: [501/625], Validation Acc: 85.4, loss: 0.00021664798259735107\n",
      "Epoch: [10/10], Step: [601/625], Validation Acc: 85.48, loss: 0.00014528632164001465\n",
      "max validation accuracy: 87.9\n"
     ]
    }
   ],
   "source": [
    "learning_rate = 0.01\n",
    "num_epochs = 10 # number epoch to train\n",
    "\n",
    "# Criterion and Optimizer\n",
    "criterion = torch.nn.CrossEntropyLoss()  \n",
    "#criterion = torch.nn.NLLLoss()  \n",
    "optimizer = torch.optim.Adam(model.parameters(), lr=learning_rate)\n",
    "#optimizer = torch.optim.SGD(model.parameters(), lr=learning_rate)\n",
    "#scheduler = torch.optim.lr_scheduler.ReduceLROnPlateau(optimizer, 'min')\n",
    "\n",
    "\n",
    "# Function for testing the model\n",
    "def test_model(loader, model):\n",
    "    \"\"\"\n",
    "    Help function that tests the model's performance on a dataset\n",
    "    @param: loader - data loader for the dataset to test against\n",
    "    \"\"\"\n",
    "    correct = 0\n",
    "    total = 0\n",
    "    model.eval()\n",
    "    for data, lengths, labels in loader:\n",
    "        data_batch, length_batch, label_batch = data, lengths, labels\n",
    "        outputs = F.softmax(model(data_batch, length_batch), dim=1)\n",
    "        predicted = outputs.max(1, keepdim=True)[1]\n",
    "        \n",
    "        total += labels.size(0)\n",
    "        correct += predicted.eq(labels.view_as(predicted)).sum().item()\n",
    "    return (100 * correct / total)\n",
    "\n",
    "\n",
    "acc = []\n",
    "Loss = []\n",
    "for epoch in range(num_epochs):\n",
    "    #optimizer = torch.optim.Adam(model.parameters(), lr=learning_rate)\n",
    "    #optimizer = torch.optim.SGD(model.parameters(), lr=learning_rate)\n",
    "    #print('learning rate: {}'.format(learning_rate))\n",
    "    for i, (data, lengths, labels) in enumerate(train_loader):\n",
    "        model.train()\n",
    "        data_batch, length_batch, label_batch = data, lengths, labels\n",
    "        optimizer.zero_grad()\n",
    "        outputs = model(data_batch, length_batch)\n",
    "        loss = criterion(outputs, label_batch)\n",
    "        loss.backward()\n",
    "        optimizer.step()\n",
    "        #loss_r += loss.item()\n",
    "        # validate every 100 iterations\n",
    "        if i > 0 and i % 100 == 0:\n",
    "            # validate\n",
    "            val_acc = test_model(val_loader, model)\n",
    "            acc.append(val_acc)\n",
    "            Loss.append(loss)\n",
    "            print('Epoch: [{}/{}], Step: [{}/{}], Validation Acc: {}, loss: {}'.format( \n",
    "                       epoch+1, num_epochs, i+1, len(train_loader), val_acc, loss))\n",
    "    #learning_rate -= 0.02   # linearly annealing of learning rate\n",
    "print('max validation accuracy: {}'.format(max(acc)))"
   ]
  },
  {
   "cell_type": "code",
   "execution_count": 380,
   "metadata": {},
   "outputs": [
    {
     "name": "stdout",
     "output_type": "stream",
     "text": [
      "After training for 10 epochs\n",
      "Train Acc 100.0\n",
      "Val Acc 85.58\n",
      "Test Acc 97.116\n"
     ]
    }
   ],
   "source": [
    "print (\"After training for {} epochs\".format(num_epochs))\n",
    "print (\"Train Acc {}\".format(test_model(train_loader, model)))\n",
    "print (\"Val Acc {}\".format(test_model(val_loader, model)))\n",
    "print (\"Test Acc {}\".format(test_model(test_loader, model)))"
   ]
  },
  {
   "cell_type": "code",
   "execution_count": null,
   "metadata": {
    "collapsed": true
   },
   "outputs": [],
   "source": [
    "from torch.optim.lr_scheduler import LambdaLR\n",
    "\n",
    "\n",
    "learning_rate = 0.1\n",
    "num_epochs = 3 # number epoch to train\n",
    "\n",
    "# Criterion and Optimizer\n",
    "criterion = torch.nn.CrossEntropyLoss()  \n",
    "#criterion = torch.nn.NLLLoss()  \n",
    "\n",
    "\n",
    "\n",
    "#optimizer = torch.optim.Adam(model.parameters(), lr=learning_rate)\n",
    "\n",
    "\n",
    "#optimizer = torch.optim.SGD(model.parameters(), lr=learning_rate)\n",
    "#scheduler = torch.optim.lr_scheduler.ReduceLROnPlateau(optimizer, 'min')\n",
    "#lambda1 = lambda epoch: epoch // 1\n",
    "#lambda2 = lambda epoch: 0.95 ** epoch\n",
    "#scheduler = LambdaLR(optimizer, lr_lambda=[lambda1])\n",
    "\n",
    "\n",
    "# Function for testing the model\n",
    "def test_model(loader, model):\n",
    "    \"\"\"\n",
    "    Help function that tests the model's performance on a dataset\n",
    "    @param: loader - data loader for the dataset to test against\n",
    "    \"\"\"\n",
    "    correct = 0\n",
    "    total = 0\n",
    "    model.eval()\n",
    "    for data, lengths, labels in loader:\n",
    "        data_batch, length_batch, label_batch = data, lengths, labels\n",
    "        outputs = F.softmax(model(data_batch, length_batch), dim=1)\n",
    "        predicted = outputs.max(1, keepdim=True)[1]\n",
    "        \n",
    "        total += labels.size(0)\n",
    "        correct += predicted.eq(labels.view_as(predicted)).sum().item()\n",
    "    return (100 * correct / total)"
   ]
  },
  {
   "cell_type": "code",
   "execution_count": 473,
   "metadata": {},
   "outputs": [
    {
     "name": "stdout",
     "output_type": "stream",
     "text": [
      "Epoch: [1/10], Step: [101/625], Validation Acc: 73.48, loss: 0.4332491159439087\n",
      "Epoch: [1/10], Step: [201/625], Validation Acc: 84.34, loss: 0.4545050859451294\n",
      "Epoch: [1/10], Step: [301/625], Validation Acc: 84.66, loss: 0.36025264859199524\n",
      "Epoch: [1/10], Step: [401/625], Validation Acc: 86.78, loss: 0.24696289002895355\n",
      "Epoch: [1/10], Step: [501/625], Validation Acc: 87.46, loss: 0.3713677227497101\n",
      "Epoch: [1/10], Step: [601/625], Validation Acc: 86.84, loss: 0.32649579644203186\n",
      "Epoch: [2/10], Step: [101/625], Validation Acc: 87.86, loss: 0.13408571481704712\n",
      "Epoch: [2/10], Step: [201/625], Validation Acc: 86.58, loss: 0.21281513571739197\n",
      "Epoch: [2/10], Step: [301/625], Validation Acc: 87.72, loss: 0.2561343312263489\n",
      "Epoch: [2/10], Step: [401/625], Validation Acc: 86.86, loss: 0.11022761464118958\n",
      "Epoch: [2/10], Step: [501/625], Validation Acc: 87.3, loss: 0.20731139183044434\n",
      "Epoch: [2/10], Step: [601/625], Validation Acc: 87.5, loss: 0.134582981467247\n",
      "Epoch: [3/10], Step: [101/625], Validation Acc: 86.44, loss: 0.08220186829566956\n",
      "Epoch: [3/10], Step: [201/625], Validation Acc: 87.32, loss: 0.032923176884651184\n",
      "Epoch: [3/10], Step: [301/625], Validation Acc: 87.1, loss: 0.15639157593250275\n",
      "Epoch: [3/10], Step: [401/625], Validation Acc: 86.58, loss: 0.050560228526592255\n",
      "Epoch: [3/10], Step: [501/625], Validation Acc: 86.5, loss: 0.16777832806110382\n",
      "Epoch: [3/10], Step: [601/625], Validation Acc: 86.12, loss: 0.09163297712802887\n",
      "Epoch: [4/10], Step: [101/625], Validation Acc: 86.94, loss: 0.10834736377000809\n",
      "Epoch: [4/10], Step: [201/625], Validation Acc: 86.52, loss: 0.02631668746471405\n",
      "Epoch: [4/10], Step: [301/625], Validation Acc: 87.02, loss: 0.05867311358451843\n",
      "Epoch: [4/10], Step: [401/625], Validation Acc: 86.52, loss: 0.06059488654136658\n",
      "Epoch: [4/10], Step: [501/625], Validation Acc: 85.82, loss: 0.11023496836423874\n",
      "Epoch: [4/10], Step: [601/625], Validation Acc: 86.2, loss: 0.041234686970710754\n",
      "Epoch: [5/10], Step: [101/625], Validation Acc: 86.32, loss: 0.025763168931007385\n",
      "Epoch: [5/10], Step: [201/625], Validation Acc: 86.24, loss: 0.01413048803806305\n",
      "Epoch: [5/10], Step: [301/625], Validation Acc: 86.16, loss: 0.004861682653427124\n",
      "Epoch: [5/10], Step: [401/625], Validation Acc: 85.96, loss: 0.022758275270462036\n",
      "Epoch: [5/10], Step: [501/625], Validation Acc: 85.62, loss: 0.026669085025787354\n",
      "Epoch: [5/10], Step: [601/625], Validation Acc: 85.68, loss: 0.02740311622619629\n",
      "Epoch: [6/10], Step: [101/625], Validation Acc: 85.98, loss: 0.02928149700164795\n",
      "Epoch: [6/10], Step: [201/625], Validation Acc: 86.06, loss: 0.006258547306060791\n",
      "Epoch: [6/10], Step: [301/625], Validation Acc: 85.76, loss: 0.005288079380989075\n",
      "Epoch: [6/10], Step: [401/625], Validation Acc: 85.56, loss: 0.01873031258583069\n",
      "Epoch: [6/10], Step: [501/625], Validation Acc: 85.78, loss: 0.00817038118839264\n",
      "Epoch: [6/10], Step: [601/625], Validation Acc: 85.7, loss: 0.011735960841178894\n",
      "Epoch: [7/10], Step: [101/625], Validation Acc: 85.78, loss: 0.008928343653678894\n",
      "Epoch: [7/10], Step: [201/625], Validation Acc: 85.84, loss: 0.006299763917922974\n",
      "Epoch: [7/10], Step: [301/625], Validation Acc: 85.94, loss: 0.002445518970489502\n",
      "Epoch: [7/10], Step: [401/625], Validation Acc: 85.6, loss: 0.002297922968864441\n",
      "Epoch: [7/10], Step: [501/625], Validation Acc: 85.34, loss: 0.001181185245513916\n",
      "Epoch: [7/10], Step: [601/625], Validation Acc: 85.74, loss: 0.012119114398956299\n",
      "Epoch: [8/10], Step: [101/625], Validation Acc: 85.76, loss: 0.0007635802030563354\n",
      "Epoch: [8/10], Step: [201/625], Validation Acc: 85.88, loss: 0.0014678984880447388\n",
      "Epoch: [8/10], Step: [301/625], Validation Acc: 85.74, loss: 0.0027311891317367554\n",
      "Epoch: [8/10], Step: [401/625], Validation Acc: 85.76, loss: 0.0005255341529846191\n",
      "Epoch: [8/10], Step: [501/625], Validation Acc: 85.86, loss: 0.004653424024581909\n",
      "Epoch: [8/10], Step: [601/625], Validation Acc: 85.66, loss: 0.0008735507726669312\n",
      "Epoch: [9/10], Step: [101/625], Validation Acc: 85.7, loss: 0.0008231997489929199\n",
      "Epoch: [9/10], Step: [201/625], Validation Acc: 85.66, loss: 0.0009656250476837158\n",
      "Epoch: [9/10], Step: [301/625], Validation Acc: 85.7, loss: 0.000648990273475647\n",
      "Epoch: [9/10], Step: [401/625], Validation Acc: 85.7, loss: 0.0007006824016571045\n",
      "Epoch: [9/10], Step: [501/625], Validation Acc: 85.86, loss: 0.00024199485778808594\n",
      "Epoch: [9/10], Step: [601/625], Validation Acc: 85.54, loss: 0.0004028826951980591\n",
      "Epoch: [10/10], Step: [101/625], Validation Acc: 85.66, loss: 0.0006327778100967407\n",
      "Epoch: [10/10], Step: [201/625], Validation Acc: 85.56, loss: 0.0005835294723510742\n",
      "Epoch: [10/10], Step: [301/625], Validation Acc: 85.66, loss: 0.000523105263710022\n",
      "Epoch: [10/10], Step: [401/625], Validation Acc: 85.7, loss: 0.0003625601530075073\n",
      "Epoch: [10/10], Step: [501/625], Validation Acc: 85.82, loss: 0.0007117986679077148\n",
      "Epoch: [10/10], Step: [601/625], Validation Acc: 85.6, loss: 0.0003198087215423584\n"
     ]
    }
   ],
   "source": [
    "learning_rate = 0.01\n",
    "num_epochs = 10 # number epoch to train\n",
    "criterion = torch.nn.CrossEntropyLoss()  \n",
    "#criterion = torch.nn.NLLLoss()  \n",
    "optimizer = torch.optim.Adam(model.parameters(), lr=learning_rate)\n",
    "\n",
    "ind = []\n",
    "acc = []\n",
    "\n",
    "for epoch in range(num_epochs):\n",
    "    epoch_acc = []\n",
    "    for i, (data, lengths, labels) in enumerate(train_loader):\n",
    "        model.train()\n",
    "        data_batch, length_batch, label_batch = data, lengths, labels\n",
    "        optimizer.zero_grad()\n",
    "        outputs = model(data_batch, length_batch)\n",
    "        loss = criterion(outputs, label_batch)\n",
    "        loss.backward()\n",
    "        optimizer.step()\n",
    "        #scheduler.step()\n",
    "        #scheduler.step(loss)\n",
    "        # loss_r += loss.item()\n",
    "        # validate every 100 iterations\n",
    "        if i > 0 and i % 100 == 0:\n",
    "            # validate\n",
    "            val_acc = test_model(val_loader, model)\n",
    "            epoch_acc.append(val_acc)\n",
    "            #ind.append(i)\n",
    "            print('Epoch: [{}/{}], Step: [{}/{}], Validation Acc: {}, loss: {}'.format( \n",
    "                       epoch+1, num_epochs, i+1, len(train_loader), val_acc, loss))\n",
    "    acc.append(epoch_acc)"
   ]
  },
  {
   "cell_type": "code",
   "execution_count": 467,
   "metadata": {
    "collapsed": true
   },
   "outputs": [],
   "source": [
    "def test_model_2(loader, model):\n",
    "    \"\"\"\n",
    "    Help function that tests the model's performance on a dataset\n",
    "    @param: loader - data loader for the dataset to test against\n",
    "    \"\"\"\n",
    "    correct = 0\n",
    "    total = 0\n",
    "    i=0\n",
    "    pred = []\n",
    "    label = []\n",
    "    DATA = []\n",
    "    model.eval()\n",
    "    for data, lengths, labels in loader:\n",
    "        data_batch, length_batch, label_batch = data, lengths, labels\n",
    "        outputs = F.softmax(model(data_batch, length_batch), dim=1)\n",
    "        predicted = outputs.max(1, keepdim=True)[1]\n",
    "        pred.append(predicted.view_as(labels))\n",
    "        DATA.append(data)\n",
    "        label.append(labels)\n",
    "        total += labels.size(0)\n",
    "        correct += predicted.eq(labels.view_as(predicted)).sum().item()\n",
    "    return DATA, pred,label"
   ]
  },
  {
   "cell_type": "code",
   "execution_count": 458,
   "metadata": {},
   "outputs": [
    {
     "data": {
      "image/png": "[encoded data removed]",
      "text/plain": [
       "<matplotlib.figure.Figure at 0x1bf6c8b128>"
      ]
     },
     "metadata": {},
     "output_type": "display_data"
    }
   ],
   "source": [
    "lr = ['0.01','0.1','0.02','0.05','0.1','0.5']\n",
    "scores = [85.68,85.1,84.94,84.76,84.64,82.56]\n",
    "plt.plot(scores,'-o')\n",
    "plt.xticks(range(len(lr)),lr)\n",
    "plt.xlabel('learning rate')\n",
    "plt.ylabel('Validation accuracy')\n",
    "#plt.savefig('learning_rate.png')"
   ]
  },
  {
   "cell_type": "code",
   "execution_count": 482,
   "metadata": {},
   "outputs": [
    {
     "data": {
      "image/png": "[encoded data removed]",
      "text/plain": [
       "<matplotlib.figure.Figure at 0x1c2224a780>"
      ]
     },
     "metadata": {},
     "output_type": "display_data"
    }
   ],
   "source": [
    "voc_size = ['5k','10k','20k','50k','100k','200k']\n",
    "scores = [82.66,84.06,85.1,87.06,87.32,87.44]\n",
    "plt.plot(scores,'-o')\n",
    "plt.xticks(range(len(scores)),voc_size)\n",
    "plt.xlabel('vocabulary size')\n",
    "plt.ylabel('Validation accuracy')\n",
    "plt.savefig('vocabulary_size.png')"
   ]
  },
  {
   "cell_type": "code",
   "execution_count": null,
   "metadata": {
    "collapsed": true
   },
   "outputs": [],
   "source": [
    "DATA, pred, label = test_model_2(val_loader,model)"
   ]
  }
 ],
 "metadata": {
  "kernelspec": {
   "display_name": "Python 3",
   "language": "python",
   "name": "python3"
  },
  "language_info": {
   "codemirror_mode": {
    "name": "ipython",
    "version": 3
   },
   "file_extension": ".py",
   "mimetype": "text/x-python",
   "name": "python",
   "nbconvert_exporter": "python",
   "pygments_lexer": "ipython3",
   "version": "3.6.3"
  }
 },
 "nbformat": 4,
 "nbformat_minor": 2
}
